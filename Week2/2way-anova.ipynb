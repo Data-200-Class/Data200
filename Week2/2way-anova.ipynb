{
 "cells": [
  {
   "cell_type": "code",
   "execution_count": 1,
   "metadata": {},
   "outputs": [],
   "source": [
    "import pandas as pd\n",
    "import statsmodels.api as sm\n",
    "from statsmodels.formula.api import ols\n",
    "from statsmodels.stats.anova import anova_lm"
   ]
  },
  {
   "cell_type": "code",
   "execution_count": 2,
   "metadata": {},
   "outputs": [],
   "source": [
    "# Sample Data\n",
    "data = {\n",
    "    'Factor_A': ['A', 'A', 'A', 'B', 'B', 'B', 'C', 'C', 'C'],\n",
    "    'Factor_B': ['X', 'Y', 'X', 'Y', 'X', 'Y', 'X', 'Y', 'X'],\n",
    "    'Response': [23, 29, 31, 34, 36, 40, 41, 42, 44]\n",
    "}\n",
    "\n",
    "df = pd.DataFrame(data)"
   ]
  },
  {
   "cell_type": "code",
   "execution_count": null,
   "metadata": {},
   "outputs": [],
   "source": [
    "df.pivot(index='Factor_A',columns='Factor_B')"
   ]
  },
  {
   "cell_type": "code",
   "execution_count": 5,
   "metadata": {},
   "outputs": [
    {
     "data": {
      "text/html": [
       "<div>\n",
       "<style scoped>\n",
       "    .dataframe tbody tr th:only-of-type {\n",
       "        vertical-align: middle;\n",
       "    }\n",
       "\n",
       "    .dataframe tbody tr th {\n",
       "        vertical-align: top;\n",
       "    }\n",
       "\n",
       "    .dataframe thead th {\n",
       "        text-align: right;\n",
       "    }\n",
       "</style>\n",
       "<table border=\"1\" class=\"dataframe\">\n",
       "  <thead>\n",
       "    <tr style=\"text-align: right;\">\n",
       "      <th>Factor_B</th>\n",
       "      <th>X</th>\n",
       "      <th>Y</th>\n",
       "    </tr>\n",
       "    <tr>\n",
       "      <th>Factor_A</th>\n",
       "      <th></th>\n",
       "      <th></th>\n",
       "    </tr>\n",
       "  </thead>\n",
       "  <tbody>\n",
       "    <tr>\n",
       "      <th>A</th>\n",
       "      <td>27.0</td>\n",
       "      <td>29.0</td>\n",
       "    </tr>\n",
       "    <tr>\n",
       "      <th>B</th>\n",
       "      <td>36.0</td>\n",
       "      <td>37.0</td>\n",
       "    </tr>\n",
       "    <tr>\n",
       "      <th>C</th>\n",
       "      <td>42.5</td>\n",
       "      <td>42.0</td>\n",
       "    </tr>\n",
       "  </tbody>\n",
       "</table>\n",
       "</div>"
      ],
      "text/plain": [
       "Factor_B     X     Y\n",
       "Factor_A            \n",
       "A         27.0  29.0\n",
       "B         36.0  37.0\n",
       "C         42.5  42.0"
      ]
     },
     "execution_count": 5,
     "metadata": {},
     "output_type": "execute_result"
    }
   ],
   "source": [
    "df.pivot_table(\"Response\",\"Factor_A\",\"Factor_B\")"
   ]
  },
  {
   "cell_type": "code",
   "execution_count": 9,
   "metadata": {},
   "outputs": [
    {
     "name": "stdout",
     "output_type": "stream",
     "text": [
      "                            OLS Regression Results                            \n",
      "==============================================================================\n",
      "Dep. Variable:               Response   R-squared:                       0.859\n",
      "Model:                            OLS   Adj. R-squared:                  0.624\n",
      "Method:                 Least Squares   F-statistic:                     3.652\n",
      "Date:                Thu, 16 Jan 2025   Prob (F-statistic):              0.158\n",
      "Time:                        07:12:22   Log-Likelihood:                -20.875\n",
      "No. Observations:                   9   AIC:                             53.75\n",
      "Df Residuals:                       3   BIC:                             54.93\n",
      "Df Model:                           5                                         \n",
      "Covariance Type:            nonrobust                                         \n",
      "=====================================================================================================\n",
      "                                        coef    std err          t      P>|t|      [0.025      0.975]\n",
      "-----------------------------------------------------------------------------------------------------\n",
      "Intercept                            27.0000      3.014      8.959      0.003      17.409      36.591\n",
      "C(Factor_A)[T.B]                      9.0000      5.220      1.724      0.183      -7.613      25.613\n",
      "C(Factor_A)[T.C]                     15.5000      4.262      3.637      0.036       1.936      29.064\n",
      "C(Factor_B)[T.Y]                      2.0000      5.220      0.383      0.727     -14.613      18.613\n",
      "C(Factor_A)[T.B]:C(Factor_B)[T.Y]    -1.0000      7.382     -0.135      0.901     -24.494      22.494\n",
      "C(Factor_A)[T.C]:C(Factor_B)[T.Y]    -2.5000      7.382     -0.339      0.757     -25.994      20.994\n",
      "==============================================================================\n",
      "Omnibus:                        0.107   Durbin-Watson:                   2.271\n",
      "Prob(Omnibus):                  0.948   Jarque-Bera (JB):                0.322\n",
      "Skew:                          -0.000   Prob(JB):                        0.851\n",
      "Kurtosis:                       2.073   Cond. No.                         9.71\n",
      "==============================================================================\n",
      "\n",
      "Notes:\n",
      "[1] Standard Errors assume that the covariance matrix of the errors is correctly specified.\n"
     ]
    },
    {
     "name": "stderr",
     "output_type": "stream",
     "text": [
      "/home/aayush/anaconda3/lib/python3.11/site-packages/scipy/stats/_stats_py.py:1806: UserWarning: kurtosistest only valid for n>=20 ... continuing anyway, n=9\n",
      "  warnings.warn(\"kurtosistest only valid for n>=20 ... continuing \"\n"
     ]
    }
   ],
   "source": [
    "# Fit the model\n",
    "model = ols('Response ~ C(Factor_A) + C(Factor_B) + C(Factor_A):C(Factor_B)', data=df).fit()\n",
    "\n",
    "print(model.summary())"
   ]
  },
  {
   "cell_type": "code",
   "execution_count": 14,
   "metadata": {},
   "outputs": [
    {
     "name": "stdout",
     "output_type": "stream",
     "text": [
      "                            OLS Regression Results                            \n",
      "==============================================================================\n",
      "Dep. Variable:               Response   R-squared:                       0.859\n",
      "Model:                            OLS   Adj. R-squared:                  0.624\n",
      "Method:                 Least Squares   F-statistic:                     3.652\n",
      "Date:                Thu, 16 Jan 2025   Prob (F-statistic):              0.158\n",
      "Time:                        07:18:30   Log-Likelihood:                -20.875\n",
      "No. Observations:                   9   AIC:                             53.75\n",
      "Df Residuals:                       3   BIC:                             54.93\n",
      "Df Model:                           5                                         \n",
      "Covariance Type:            nonrobust                                         \n",
      "=====================================================================================================\n",
      "                                        coef    std err          t      P>|t|      [0.025      0.975]\n",
      "-----------------------------------------------------------------------------------------------------\n",
      "Intercept                            27.0000      3.014      8.959      0.003      17.409      36.591\n",
      "C(Factor_A)[T.B]                      9.0000      5.220      1.724      0.183      -7.613      25.613\n",
      "C(Factor_A)[T.C]                     15.5000      4.262      3.637      0.036       1.936      29.064\n",
      "C(Factor_B)[T.Y]                      2.0000      5.220      0.383      0.727     -14.613      18.613\n",
      "C(Factor_A)[T.B]:C(Factor_B)[T.Y]    -1.0000      7.382     -0.135      0.901     -24.494      22.494\n",
      "C(Factor_A)[T.C]:C(Factor_B)[T.Y]    -2.5000      7.382     -0.339      0.757     -25.994      20.994\n",
      "==============================================================================\n",
      "Omnibus:                        0.107   Durbin-Watson:                   2.271\n",
      "Prob(Omnibus):                  0.948   Jarque-Bera (JB):                0.322\n",
      "Skew:                          -0.000   Prob(JB):                        0.851\n",
      "Kurtosis:                       2.073   Cond. No.                         9.71\n",
      "==============================================================================\n",
      "\n",
      "Notes:\n",
      "[1] Standard Errors assume that the covariance matrix of the errors is correctly specified.\n"
     ]
    },
    {
     "name": "stderr",
     "output_type": "stream",
     "text": [
      "/home/aayush/anaconda3/lib/python3.11/site-packages/scipy/stats/_stats_py.py:1806: UserWarning: kurtosistest only valid for n>=20 ... continuing anyway, n=9\n",
      "  warnings.warn(\"kurtosistest only valid for n>=20 ... continuing \"\n"
     ]
    }
   ],
   "source": [
    "model = ols(\"Response ~ C(Factor_A)*C(Factor_B)\",data=data).fit()\n",
    "print(model.summary())"
   ]
  },
  {
   "cell_type": "code",
   "execution_count": 16,
   "metadata": {},
   "outputs": [
    {
     "data": {
      "text/html": [
       "<div>\n",
       "<style scoped>\n",
       "    .dataframe tbody tr th:only-of-type {\n",
       "        vertical-align: middle;\n",
       "    }\n",
       "\n",
       "    .dataframe tbody tr th {\n",
       "        vertical-align: top;\n",
       "    }\n",
       "\n",
       "    .dataframe thead th {\n",
       "        text-align: right;\n",
       "    }\n",
       "</style>\n",
       "<table border=\"1\" class=\"dataframe\">\n",
       "  <thead>\n",
       "    <tr style=\"text-align: right;\">\n",
       "      <th></th>\n",
       "      <th>df</th>\n",
       "      <th>sum_sq</th>\n",
       "      <th>mean_sq</th>\n",
       "      <th>F</th>\n",
       "      <th>PR(&gt;F)</th>\n",
       "    </tr>\n",
       "  </thead>\n",
       "  <tbody>\n",
       "    <tr>\n",
       "      <th>C(Factor_A)</th>\n",
       "      <td>2.0</td>\n",
       "      <td>328.222222</td>\n",
       "      <td>164.111111</td>\n",
       "      <td>9.033639</td>\n",
       "      <td>0.053736</td>\n",
       "    </tr>\n",
       "    <tr>\n",
       "      <th>C(Factor_B)</th>\n",
       "      <td>1.0</td>\n",
       "      <td>1.388889</td>\n",
       "      <td>1.388889</td>\n",
       "      <td>0.076453</td>\n",
       "      <td>0.800119</td>\n",
       "    </tr>\n",
       "    <tr>\n",
       "      <th>C(Factor_A):C(Factor_B)</th>\n",
       "      <td>2.0</td>\n",
       "      <td>2.111111</td>\n",
       "      <td>1.055556</td>\n",
       "      <td>0.058104</td>\n",
       "      <td>0.944588</td>\n",
       "    </tr>\n",
       "    <tr>\n",
       "      <th>Residual</th>\n",
       "      <td>3.0</td>\n",
       "      <td>54.500000</td>\n",
       "      <td>18.166667</td>\n",
       "      <td>NaN</td>\n",
       "      <td>NaN</td>\n",
       "    </tr>\n",
       "  </tbody>\n",
       "</table>\n",
       "</div>"
      ],
      "text/plain": [
       "                          df      sum_sq     mean_sq         F    PR(>F)\n",
       "C(Factor_A)              2.0  328.222222  164.111111  9.033639  0.053736\n",
       "C(Factor_B)              1.0    1.388889    1.388889  0.076453  0.800119\n",
       "C(Factor_A):C(Factor_B)  2.0    2.111111    1.055556  0.058104  0.944588\n",
       "Residual                 3.0   54.500000   18.166667       NaN       NaN"
      ]
     },
     "execution_count": 16,
     "metadata": {},
     "output_type": "execute_result"
    }
   ],
   "source": [
    "# Perform ANOVA\n",
    "anova_results = anova_lm(model)\n",
    "anova_results\n"
   ]
  },
  {
   "cell_type": "code",
   "execution_count": null,
   "metadata": {},
   "outputs": [],
   "source": []
  },
  {
   "cell_type": "code",
   "execution_count": null,
   "metadata": {},
   "outputs": [],
   "source": []
  },
  {
   "cell_type": "code",
   "execution_count": null,
   "metadata": {},
   "outputs": [],
   "source": []
  },
  {
   "cell_type": "code",
   "execution_count": 14,
   "metadata": {},
   "outputs": [
    {
     "name": "stdout",
     "output_type": "stream",
     "text": [
      "                  Multivariate linear model\n",
      "=============================================================\n",
      "                                                             \n",
      "-------------------------------------------------------------\n",
      "        Intercept         Value  Num DF Den DF F Value Pr > F\n",
      "-------------------------------------------------------------\n",
      "           Wilks' lambda  0.0227 2.0000 4.0000 86.2575 0.0005\n",
      "          Pillai's trace  0.9773 2.0000 4.0000 86.2575 0.0005\n",
      "  Hotelling-Lawley trace 43.1288 2.0000 4.0000 86.2575 0.0005\n",
      "     Roy's greatest root 43.1288 2.0000 4.0000 86.2575 0.0005\n",
      "-------------------------------------------------------------\n",
      "                                                             \n",
      "-------------------------------------------------------------\n",
      "        Factor_A         Value  Num DF  Den DF F Value Pr > F\n",
      "-------------------------------------------------------------\n",
      "          Wilks' lambda  0.0663 4.0000  8.0000  5.7663 0.0175\n",
      "         Pillai's trace  1.1791 4.0000 10.0000  3.5909 0.0460\n",
      " Hotelling-Lawley trace 10.3783 4.0000  4.0000 10.3783 0.0218\n",
      "    Roy's greatest root 10.0085 2.0000  5.0000 25.0213 0.0025\n",
      "-------------------------------------------------------------\n",
      "                                                             \n",
      "-------------------------------------------------------------\n",
      "          Factor_B        Value  Num DF Den DF F Value Pr > F\n",
      "-------------------------------------------------------------\n",
      "            Wilks' lambda 0.8588 2.0000 4.0000  0.3289 0.7375\n",
      "           Pillai's trace 0.1412 2.0000 4.0000  0.3289 0.7375\n",
      "   Hotelling-Lawley trace 0.1645 2.0000 4.0000  0.3289 0.7375\n",
      "      Roy's greatest root 0.1645 2.0000 4.0000  0.3289 0.7375\n",
      "=============================================================\n",
      "\n"
     ]
    },
    {
     "name": "stderr",
     "output_type": "stream",
     "text": [
      "/home/aayush/anaconda3/lib/python3.11/site-packages/statsmodels/multivariate/multivariate_ols.py:218: RuntimeWarning: divide by zero encountered in scalar divide\n",
      "  b = (p + 2*n) * (q + 2*n) / 2 / (2*n + 1) / (n - 1)\n",
      "/home/aayush/anaconda3/lib/python3.11/site-packages/statsmodels/multivariate/multivariate_ols.py:218: RuntimeWarning: divide by zero encountered in scalar divide\n",
      "  b = (p + 2*n) * (q + 2*n) / 2 / (2*n + 1) / (n - 1)\n",
      "/home/aayush/anaconda3/lib/python3.11/site-packages/statsmodels/multivariate/multivariate_ols.py:218: RuntimeWarning: divide by zero encountered in scalar divide\n",
      "  b = (p + 2*n) * (q + 2*n) / 2 / (2*n + 1) / (n - 1)\n"
     ]
    }
   ],
   "source": [
    "import pandas as pd\n",
    "import statsmodels.api as sm\n",
    "from statsmodels.multivariate.manova import MANOVA\n",
    "\n",
    "# Sample Data\n",
    "data = {\n",
    "    'Factor_A': ['A', 'A', 'A', 'B', 'B', 'B', 'C', 'C', 'C'],\n",
    "    'Factor_B': ['X', 'Y', 'X', 'Y', 'X', 'Y', 'X', 'Y', 'X'],\n",
    "    'Response1': [23, 29, 31, 34, 36, 40, 41, 42, 44],\n",
    "    'Response2': [45, 50, 55, 60, 65, 70, 75, 80, 85]\n",
    "}\n",
    "\n",
    "df = pd.DataFrame(data)\n",
    "\n",
    "# Define the independent variables and dependent variables\n",
    "dependent_vars = ['Response1', 'Response2']\n",
    "independent_vars = ['Factor_A', 'Factor_B']\n",
    "\n",
    "# Fit the MANOVA model\n",
    "manova = MANOVA.from_formula('Response1 + Response2 ~ Factor_A + Factor_B', data=df)\n",
    "\n",
    "# Perform the MANOVA and print the results\n",
    "manova_results = manova.mv_test()\n",
    "print(manova_results)\n"
   ]
  }
 ],
 "metadata": {
  "kernelspec": {
   "display_name": "base",
   "language": "python",
   "name": "python3"
  },
  "language_info": {
   "codemirror_mode": {
    "name": "ipython",
    "version": 3
   },
   "file_extension": ".py",
   "mimetype": "text/x-python",
   "name": "python",
   "nbconvert_exporter": "python",
   "pygments_lexer": "ipython3",
   "version": "3.11.5"
  }
 },
 "nbformat": 4,
 "nbformat_minor": 2
}
