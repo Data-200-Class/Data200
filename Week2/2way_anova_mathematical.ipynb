{
 "cells": [
  {
   "cell_type": "markdown",
   "metadata": {},
   "source": [
    "# Recap: Last Lecture We disccussed\n",
    "\n",
    "- Regression<br><br>\n",
    "- Ordinary Least Squares Method<br><br>\n",
    "- Assumptions of Regression<br><br>\n",
    "- Mathematical Derivation of Ordinary Least Squares for Parameter Estimation<br><br>\n",
    "- Python Implementation of Regression using OLS Parameter Estimation from scratch<br><br>\n",
    "- Python Implementation of Regression using Linear Regression from **scikit learn.linear_model.LinearRegression()** as well as **statsmodels.OLS()**<br><br><br>\n",
    "- ANOVA (Analysis of Variance)<br><br>\n",
    "- 1 way vs 2 way ANOVA<br><br>\n",
    "- Mathematical Formulation of One way ANOVA<br><br>"
   ]
  },
  {
   "cell_type": "markdown",
   "metadata": {},
   "source": [
    "<table style=\"margin: 10px; padding: 10px; border-collapse: collapse; border: 2px solid black;\">\n",
    "  <tr>\n",
    "    <th style=\"padding: 10px; border: 2px solid black;\">Aspect</th>\n",
    "    <th style=\"padding: 10px; border: 2px solid black;\">1-Way ANOVA</th>\n",
    "    <th style=\"padding: 10px; border: 2px solid black;\">2-Way ANOVA</th>\n",
    "    <th style=\"padding: 10px; border: 2px solid black;\">MANOVA</th>\n",
    "  </tr>\n",
    "  <tr>\n",
    "    <td style=\"padding: 10px; border: 2px solid black;\">Purpose</td>\n",
    "    <td style=\"padding: 10px; border: 2px solid black;\">Test differences across 1 factor.</td>\n",
    "    <td style=\"padding: 10px; border: 2px solid black;\">Test differences across 2 factors and their interaction.</td>\n",
    "    <td style=\"padding: 10px; border: 2px solid black;\">Test differences across multiple dependent variables.</td>\n",
    "  </tr>\n",
    "  <tr>\n",
    "    <td style=\"padding: 10px; border: 2px solid black;\">Independent Vars</td>\n",
    "    <td style=\"padding: 10px; border: 2px solid black;\">1 factor</td>\n",
    "    <td style=\"padding: 10px; border: 2px solid black;\">2 factors</td>\n",
    "    <td style=\"padding: 10px; border: 2px solid black;\">1 or more factors</td>\n",
    "  </tr>\n",
    "  <tr>\n",
    "    <td style=\"padding: 10px; border: 2px solid black;\">Dependent Vars</td>\n",
    "    <td style=\"padding: 10px; border: 2px solid black;\">1 continuous</td>\n",
    "    <td style=\"padding: 10px; border: 2px solid black;\">1 continuous</td>\n",
    "    <td style=\"padding: 10px; border: 2px solid black;\">2 or more continuous</td>\n",
    "  </tr>\n",
    "  <tr>\n",
    "    <td style=\"padding: 10px; border: 2px solid black;\">Interaction</td>\n",
    "    <td style=\"padding: 10px; border: 2px solid black;\">Not considered</td>\n",
    "    <td style=\"padding: 10px; border: 2px solid black;\">Considered</td>\n",
    "    <td style=\"padding: 10px; border: 2px solid black;\">Not considered (interaction within DVs possible separately)</td>\n",
    "  </tr>\n",
    "  <tr>\n",
    "    <td style=\"padding: 10px; border: 2px solid black;\">Example</td>\n",
    "    <td style=\"padding: 10px; border: 2px solid black;\"><b>Effect of fertilizer on growth.</b></td>\n",
    "    <td style=\"padding: 10px; border: 2px solid black;\"><b>Effect of fertilizer and watering on growth.</b></td>\n",
    "    <td style=\"padding: 10px; border: 2px solid black;\"><b>Effect of fertilizer on growth and chlorophyll content.</b></td>\n",
    "  </tr>\n",
    "</table>\n"
   ]
  },
  {
   "cell_type": "markdown",
   "metadata": {},
   "source": [
    "# Assumptions of ANOVA\n",
    "\n",
    "<div style='text-align:center'><img src=\"/home/aayush/Documents/Kings/Week2/images/anova_assumtions.png\" height=\"600\"></div>"
   ]
  },
  {
   "cell_type": "markdown",
   "metadata": {},
   "source": [
    "<br><br>\n",
    "# Normality Assumption\n",
    "\n",
    "\n",
    "<div style='text-align:center'><img src=\"/home/aayush/Documents/Kings/Week2/images/normality.png\" height=\"600\"></div><br><br><br>\n",
    "<div style='text-align:center'><img src=\"/home/aayush/Documents/Kings/Week2/images/normality_2.png\" height=\"600\"></div>"
   ]
  },
  {
   "cell_type": "markdown",
   "metadata": {},
   "source": [
    "<br><br>\n",
    "# Homogenity of Variances\n",
    "\n",
    "\n",
    "<div style='text-align:center'><img src=\"/home/aayush/Documents/Kings/Week2/images/variance_homogenity.png\" height=\"600\"></div><br><br><br>\n",
    "<div style='text-align:center'><img src=\"/home/aayush/Documents/Kings/Week2/images/variance_homogenity_remedy.png\" height=\"600\"></div>"
   ]
  },
  {
   "cell_type": "markdown",
   "metadata": {},
   "source": [
    "<br><br>\n",
    "# Independent Assumptions\n",
    "\n",
    "\n",
    "<div style='text-align:center'><img src=\"/home/aayush/Documents/Kings/Week2/images/independence_assumption.png\" height=\"600\"></div><br><br><br>\n",
    "<div style='text-align:center'><img src=\"/home/aayush/Documents/Kings/Week2/images/independent_assumption.png\" height=\"600\"></div>"
   ]
  },
  {
   "cell_type": "markdown",
   "metadata": {},
   "source": [
    "# Let's Move on to 2 Way Anova\n",
    "\n",
    "- 2 independent variables (Factors) vs 1 dependent Factor\n",
    "\n",
    "<div style='text-align:center'><img src=\"/home/aayush/Documents/Kings/Week2/images/2_way_anova.png\" height=\"600\"></div><br><br>\n",
    "<div style='text-align:center'><img src=\"/home/aayush/Documents/Kings/Week2/images/2_way_anova_relations.png\" height=\"600\"></div>"
   ]
  },
  {
   "cell_type": "markdown",
   "metadata": {},
   "source": [
    "# Hypothesis\n",
    "\n",
    "<div style='text-align:center'><img src=\"/home/aayush/Documents/Kings/Week2/images/2_way_anova_hypothesis.png\" height=\"600\"></div><br><br>\n",
    "<div style='text-align:center'><img src=\"/home/aayush/Documents/Kings/Week2/images/2_way_SST.png\" height=\"600\"></div><br><br>\n",
    "<div style='text-align:center'><img src=\"/home/aayush/Documents/Kings/Week2/images/SSE_demonstration.png\" height=\"600\"></div><br><br>\n",
    "<div style='text-align:center'><img src=\"/home/aayush/Documents/Kings/Week2/images/SSE_demonstration2.png\" height=\"600\"></div>\n"
   ]
  },
  {
   "cell_type": "markdown",
   "metadata": {},
   "source": [
    "# **ANCOVA**\n",
    "\n",
    "- WE will go in this after this completion meanwhile let's understand ANCOVA Terminology\n",
    "\n",
    "## **Analysis of Covariance**\n",
    "<div style='text-align:center'><img src=\"/home/aayush/Documents/Kings/Week2/images/ancova.png\" height=\"600\"></div><br><br>\n",
    "\n",
    "<h2>It basically adjust the effects of covariate on the dependent variable before accounting for the relationship between independent and dependent variable</h2>\n",
    "<div style='text-align:center'><img src=\"/home/aayush/Documents/Kings/Week2/images/ancova_formula.png\" height=\"600\"></div><br><br>\n",
    "\n",
    "\n",
    "- Example of Students GPA (Dependent Variable: GPA or Percentage) Covariate(Pre-Test Score or Mock Exam Marks) and Independent Variables(Level of Study, College etc)\n"
   ]
  },
  {
   "cell_type": "markdown",
   "metadata": {},
   "source": [
    "# Now let's explore python Implementation 2 way ANOVA **(from Scratch)** as well as using statsmodels api"
   ]
  },
  {
   "cell_type": "code",
   "execution_count": 1,
   "metadata": {},
   "outputs": [],
   "source": [
    "import statsmodels.api as sm\n",
    "import numpy as np\n",
    "from statsmodels.formula.api import ols\n",
    "import pandas as pd\n",
    "import matplotlib.pyplot as plt\n",
    "import seaborn as sns"
   ]
  },
  {
   "cell_type": "markdown",
   "metadata": {},
   "source": [
    "<img src=\"images/2_way_anova_data.png\" height=400px>"
   ]
  },
  {
   "cell_type": "code",
   "execution_count": 2,
   "metadata": {},
   "outputs": [
    {
     "data": {
      "text/html": [
       "<div>\n",
       "<style scoped>\n",
       "    .dataframe tbody tr th:only-of-type {\n",
       "        vertical-align: middle;\n",
       "    }\n",
       "\n",
       "    .dataframe tbody tr th {\n",
       "        vertical-align: top;\n",
       "    }\n",
       "\n",
       "    .dataframe thead th {\n",
       "        text-align: right;\n",
       "    }\n",
       "</style>\n",
       "<table border=\"1\" class=\"dataframe\">\n",
       "  <thead>\n",
       "    <tr style=\"text-align: right;\">\n",
       "      <th></th>\n",
       "      <th>drug</th>\n",
       "      <th>gender</th>\n",
       "      <th>dv</th>\n",
       "    </tr>\n",
       "  </thead>\n",
       "  <tbody>\n",
       "    <tr>\n",
       "      <th>18</th>\n",
       "      <td>B</td>\n",
       "      <td>female</td>\n",
       "      <td>2</td>\n",
       "    </tr>\n",
       "    <tr>\n",
       "      <th>13</th>\n",
       "      <td>B</td>\n",
       "      <td>male</td>\n",
       "      <td>7</td>\n",
       "    </tr>\n",
       "    <tr>\n",
       "      <th>9</th>\n",
       "      <td>A</td>\n",
       "      <td>female</td>\n",
       "      <td>6</td>\n",
       "    </tr>\n",
       "    <tr>\n",
       "      <th>1</th>\n",
       "      <td>A</td>\n",
       "      <td>male</td>\n",
       "      <td>4</td>\n",
       "    </tr>\n",
       "    <tr>\n",
       "      <th>15</th>\n",
       "      <td>B</td>\n",
       "      <td>female</td>\n",
       "      <td>3</td>\n",
       "    </tr>\n",
       "    <tr>\n",
       "      <th>7</th>\n",
       "      <td>A</td>\n",
       "      <td>female</td>\n",
       "      <td>5</td>\n",
       "    </tr>\n",
       "    <tr>\n",
       "      <th>17</th>\n",
       "      <td>B</td>\n",
       "      <td>female</td>\n",
       "      <td>9</td>\n",
       "    </tr>\n",
       "    <tr>\n",
       "      <th>14</th>\n",
       "      <td>B</td>\n",
       "      <td>male</td>\n",
       "      <td>5</td>\n",
       "    </tr>\n",
       "    <tr>\n",
       "      <th>3</th>\n",
       "      <td>A</td>\n",
       "      <td>male</td>\n",
       "      <td>9</td>\n",
       "    </tr>\n",
       "    <tr>\n",
       "      <th>19</th>\n",
       "      <td>B</td>\n",
       "      <td>female</td>\n",
       "      <td>3</td>\n",
       "    </tr>\n",
       "  </tbody>\n",
       "</table>\n",
       "</div>"
      ],
      "text/plain": [
       "   drug  gender  dv\n",
       "18    B  female   2\n",
       "13    B    male   7\n",
       "9     A  female   6\n",
       "1     A    male   4\n",
       "15    B  female   3\n",
       "7     A  female   5\n",
       "17    B  female   9\n",
       "14    B    male   5\n",
       "3     A    male   9\n",
       "19    B  female   3"
      ]
     },
     "execution_count": 2,
     "metadata": {},
     "output_type": "execute_result"
    }
   ],
   "source": [
    "data = pd.read_csv(\"data_gender_drug.csv\")\n",
    "data.sample(10)"
   ]
  },
  {
   "cell_type": "markdown",
   "metadata": {},
   "source": [
    "### Using pivot_table to pivot the table to Gender vs Drugs and Effect as value"
   ]
  },
  {
   "cell_type": "code",
   "execution_count": 3,
   "metadata": {},
   "outputs": [
    {
     "name": "stdout",
     "output_type": "stream",
     "text": [
      "---------------------------------------------------------------------------\n",
      "Means of Groups in Data (Drugs vs Gender): \n",
      " drug      A    B\n",
      "gender          \n",
      "female  6.0  4.4\n",
      "male    5.8  5.4\n",
      "---------------------------------------------------------------------------\n",
      "Aggregated Data into list for grouping according to groups: \n",
      " drug                  A                B\n",
      "gender                                  \n",
      "female  [8, 3, 5, 8, 6]  [3, 5, 9, 2, 3]\n",
      "male    [6, 4, 7, 9, 3]  [4, 5, 6, 7, 5]\n",
      "---------------------------------------------------------------------------\n",
      "Mean Values for Gender: \n",
      " gender\n",
      "female    5.2\n",
      "male      5.6\n",
      "Name: dv, dtype: float64\n",
      "---------------------------------------------------------------------------\n",
      "Mean Values for Drug: \n",
      " drug\n",
      "A    5.9\n",
      "B    4.9\n",
      "Name: dv, dtype: float64\n",
      "---------------------------------------------------------------------------\n"
     ]
    }
   ],
   "source": [
    "pivot_data = data.pivot_table(index=\"gender\", columns=\"drug\", values=\"dv\", aggfunc=list)\n",
    "print(\"-\" * 75)\n",
    "pivot_mean = data.pivot_table(\n",
    "    index=\"gender\", columns=\"drug\", values=\"dv\", aggfunc=\"mean\"\n",
    ")\n",
    "print(\"Means of Groups in Data (Drugs vs Gender): \\n\", pivot_mean)\n",
    "print(\"-\" * 75)\n",
    "print(\"Aggregated Data into list for grouping according to groups: \\n\", pivot_data)\n",
    "print(\"-\" * 75)\n",
    "mean_gender = data.groupby(\"gender\")[\"dv\"].mean()\n",
    "print(\"Mean Values for Gender: \\n\", mean_gender)\n",
    "print(\"-\" * 75)\n",
    "mean_drug = data.groupby(\"drug\")[\"dv\"].mean()\n",
    "print(\"Mean Values for Drug: \\n\",mean_drug)\n",
    "print(\"-\" * 75)"
   ]
  },
  {
   "cell_type": "markdown",
   "metadata": {},
   "source": [
    "### Caluculating SST (Sum of Squares Total)"
   ]
  },
  {
   "cell_type": "markdown",
   "metadata": {},
   "source": [
    "General Model Equation for 2 way ANOVA\n",
    "\\begin{equation}\n",
    "Y_{ijk} = \\mu + \\alpha_i + \\beta_j + (\\alpha \\beta)_{ij} + \\epsilon_{ijk}\n",
    "\\end{equation}\n",
    "The total sum of squares is calculated as:\n",
    "\\begin{equation}\n",
    "SST = \\sum_{i=1}^{a} \\sum_{j=1}^{b} \\sum_{k=1}^{n_{ij}} (Y_{ijk} - \\bar{Y}_{..})^2\n",
    "\\end{equation}"
   ]
  },
  {
   "cell_type": "code",
   "execution_count": 4,
   "metadata": {},
   "outputs": [
    {
     "name": "stdout",
     "output_type": "stream",
     "text": [
      "Sum of Squares total:  84.80000000000001\n",
      "Total degree of Freedom:  19\n",
      "Total Mean(X_hat):  5.4\n",
      "Total Variance:  4.463157894736843\n"
     ]
    }
   ],
   "source": [
    "SST = np.sum((data[\"dv\"] - data[\"dv\"].mean()) ** 2)\n",
    "df_tot = 20 - ((data.gender.nunique() - 1) * (data.drug.nunique() - 1))\n",
    "print(\"Sum of Squares total: \", SST)\n",
    "print(\"Total degree of Freedom: \", df_tot)\n",
    "X_hat = data[\"dv\"].mean()\n",
    "print(\"Total Mean(X_hat): \", X_hat)\n",
    "\n",
    "variance_total = SST/df_tot\n",
    "print(\"Total Variance: \",variance_total)"
   ]
  },
  {
   "cell_type": "markdown",
   "metadata": {},
   "source": [
    "### Calculating Between Variance"
   ]
  },
  {
   "cell_type": "markdown",
   "metadata": {},
   "source": [
    "$$\n",
    "SSB = \\sum_{j=1}^{b} n_j \\left( \\bar{Y}_{.j.} - \\bar{Y}_{..} \\right)^2\n",
    "$$\n"
   ]
  },
  {
   "cell_type": "code",
   "execution_count": 5,
   "metadata": {},
   "outputs": [
    {
     "name": "stdout",
     "output_type": "stream",
     "text": [
      "Sum of Squares Between:  7.599999999999996\n",
      "degree of freedom between:  3\n",
      "Total Variance:  2.533333333333332\n"
     ]
    }
   ],
   "source": [
    "SS_bet = 5 * ((pivot_mean - X_hat) ** 2).sum().sum()\n",
    "print(\"Sum of Squares Between: \", SS_bet)\n",
    "df_bet = 2 * 2 - 1\n",
    "print(\"degree of freedom between: \", df_bet)\n",
    "variance_bet = SS_bet/df_bet\n",
    "print(\"Total Variance: \",variance_bet)"
   ]
  },
  {
   "cell_type": "code",
   "execution_count": 6,
   "metadata": {},
   "outputs": [
    {
     "data": {
      "text/plain": [
       "77.20000000000002"
      ]
     },
     "execution_count": 6,
     "metadata": {},
     "output_type": "execute_result"
    }
   ],
   "source": [
    "SST-SS_bet ### We get the Sum of Squares of the residual term"
   ]
  },
  {
   "cell_type": "markdown",
   "metadata": {},
   "source": [
    "### Sum of Squares of Factor A Calculation (Drug)"
   ]
  },
  {
   "cell_type": "markdown",
   "metadata": {},
   "source": [
    "$$\n",
    "SSA = \\sum_{i=1}^{a} n_i \\left( \\bar{Y}_{i..} - \\bar{Y}_{..} \\right)^2\n",
    "$$\n"
   ]
  },
  {
   "cell_type": "code",
   "execution_count": 7,
   "metadata": {},
   "outputs": [
    {
     "data": {
      "text/plain": [
       "drug\n",
       "A    5.9\n",
       "B    4.9\n",
       "Name: dv, dtype: float64"
      ]
     },
     "execution_count": 7,
     "metadata": {},
     "output_type": "execute_result"
    }
   ],
   "source": [
    "mean_drug"
   ]
  },
  {
   "cell_type": "code",
   "execution_count": 8,
   "metadata": {},
   "outputs": [
    {
     "name": "stdout",
     "output_type": "stream",
     "text": [
      "Sum of Squared Sum of A:  5.0\n",
      "Degree of Freedom of A:  1\n",
      "Total Variance of Drug:  5.0\n"
     ]
    }
   ],
   "source": [
    "# For drug\n",
    "\n",
    "# n = no of samples in the group\n",
    "n = 5 * 2\n",
    "\n",
    "SS_A = 10 * np.sum((mean_drug - X_hat) ** 2)\n",
    "print(\"Sum of Squared Sum of A: \", SS_A)\n",
    "print(\"Degree of Freedom of A: \",2-1)\n",
    "variance_A = SS_A/1\n",
    "print(\"Total Variance of Drug: \",variance_A)\n"
   ]
  },
  {
   "cell_type": "markdown",
   "metadata": {},
   "source": [
    "### Sum of Squares of Factor B Calculation (Gender)"
   ]
  },
  {
   "cell_type": "markdown",
   "metadata": {},
   "source": [
    "$$\n",
    "SSB = \\sum_{j=1}^{b} n_j \\left( \\bar{Y}_{.j.} - \\bar{Y}_{..} \\right)^2\n",
    "$$\n"
   ]
  },
  {
   "cell_type": "code",
   "execution_count": 9,
   "metadata": {},
   "outputs": [
    {
     "name": "stdout",
     "output_type": "stream",
     "text": [
      "Sum of Squared Sum of A:  0.7999999999999979\n",
      "Degree of Freedom of A:  1\n",
      "Total Variance of Drug:  0.7999999999999979\n"
     ]
    }
   ],
   "source": [
    "# For Gender\n",
    "\n",
    "# n = no of samples in the group\n",
    "n = 5 * 2\n",
    "\n",
    "SS_B = 10 * np.sum((mean_gender - X_hat) ** 2)\n",
    "print(\"Sum of Squared Sum of A: \", SS_B)\n",
    "print(\"Degree of Freedom of A: \",2-1)\n",
    "variance_B = SS_B/1\n",
    "print(\"Total Variance of Drug: \",variance_B)\n"
   ]
  },
  {
   "cell_type": "markdown",
   "metadata": {},
   "source": [
    "### For Interaction Term (Gender X Drug)\n",
    "\n",
    "$$\n",
    "SSAB = \\sum_{i=1}^{a} \\sum_{j=1}^{b} n_{ij} \\left( \\bar{Y}_{ij.} - \\bar{Y}_{i..} - \\bar{Y}_{.j.} + \\bar{Y}_{..} \\right)^2\n",
    "$$\n"
   ]
  },
  {
   "cell_type": "code",
   "execution_count": 10,
   "metadata": {},
   "outputs": [
    {
     "name": "stdout",
     "output_type": "stream",
     "text": [
      "Sum of Squared Sum of Interaction Term AB(Gender and Drug):  1.799999999999998\n",
      "Total Variance of Interaction Term AB(Gender and Drug):  1.799999999999998\n"
     ]
    }
   ],
   "source": [
    "SS_AB = SS_bet - SS_A - SS_B\n",
    "print(\"Sum of Squared Sum of Interaction Term AB(Gender and Drug): \", SS_AB)\n",
    "df_AB = (2-1)*(2-1)\n",
    "variance_bet = SS_AB/df_AB\n",
    "print(\"Total Variance of Interaction Term AB(Gender and Drug): \", variance_bet)"
   ]
  },
  {
   "cell_type": "markdown",
   "metadata": {},
   "source": [
    "### Computing Square Sum of Error (Residual)\n",
    "\n",
    "$$\n",
    "SSE = \\sum_{i=1}^{a} \\sum_{j=1}^{b} \\sum_{k=1}^{n_{ij}} (Y_{ijk} - \\bar{Y}_{ij.})^2\n",
    "$$\n"
   ]
  },
  {
   "cell_type": "code",
   "execution_count": 11,
   "metadata": {},
   "outputs": [],
   "source": [
    "SS_err = 0\n",
    "for gender in ['male','female']:\n",
    "    for drug in ['A','B']:\n",
    "        SS_err += np.sum((np.array(pivot_data.loc[gender,drug])-pivot_mean.loc[gender,drug])**2)"
   ]
  },
  {
   "cell_type": "code",
   "execution_count": 12,
   "metadata": {},
   "outputs": [
    {
     "name": "stdout",
     "output_type": "stream",
     "text": [
      "Sum of Error of Residual:  77.2\n",
      "Variance of Error Terms(Residuals):  4.825\n"
     ]
    }
   ],
   "source": [
    "print(\"Sum of Error of Residual: \", SS_err)\n",
    "df_err = df_tot - df_AB - 1 - 1  # 1 and 1 are df for individual terms A and B\n",
    "df_err\n",
    "variance_error = SS_err / df_err\n",
    "print(\"Variance of Error Terms(Residuals): \", variance_error)"
   ]
  },
  {
   "cell_type": "markdown",
   "metadata": {},
   "source": [
    "### For degree of Freedom\n",
    "$$\n",
    "df_A = a - 1, \\quad df_B = b - 1, \\quad df_{AB} = (a - 1)(b - 1), \\quad df_E = ab(n - 1), \\quad df_T = abn - 1\n",
    "$$\n"
   ]
  },
  {
   "cell_type": "markdown",
   "metadata": {},
   "source": [
    "### Mean Square Values or Variances\n",
    "$$\n",
    "MSA = \\frac{SSA}{df_A}, \\quad MSB = \\frac{SSB}{df_B}, \\quad MSAB = \\frac{SSAB}{df_{AB}}, \\quad MSE = \\frac{SSE}{df_E}\n",
    "$$\n"
   ]
  },
  {
   "cell_type": "markdown",
   "metadata": {},
   "source": [
    "### Calculating the F values\n",
    "\n",
    "$$\n",
    "F_A = \\frac{MSA}{MSE}, \\quad F_B = \\frac{MSB}{MSE}, \\quad F_{AB} = \\frac{MSAB}{MSE}\n",
    "$$\n"
   ]
  },
  {
   "cell_type": "code",
   "execution_count": 13,
   "metadata": {},
   "outputs": [
    {
     "name": "stdout",
     "output_type": "stream",
     "text": [
      "F value of F_A:  1.0362694300518134\n",
      "F value of F_B:  0.16580310880828972\n",
      "F value of Interaction:  0.37305699481865245\n"
     ]
    }
   ],
   "source": [
    "F_A = variance_A / variance_error\n",
    "print(\"F value of F_A: \", F_A)\n",
    "F_B = variance_B / variance_error\n",
    "print(\"F value of F_B: \", F_B)\n",
    "F_bet = variance_bet / variance_error\n",
    "print(\"F value of Interaction: \", F_bet)"
   ]
  },
  {
   "cell_type": "markdown",
   "metadata": {},
   "source": [
    "$$\n",
    "p = P(F_{\\text{calculated}} > F_{\\text{critical}})\n",
    "$$\n"
   ]
  },
  {
   "cell_type": "code",
   "execution_count": 14,
   "metadata": {},
   "outputs": [
    {
     "name": "stdout",
     "output_type": "stream",
     "text": [
      "P Value Corresponding to our F statistics drug:  0.3238375983492294\n",
      "P Value Corresponding to our F statistics gender:  0.6892646297178505\n",
      "P Value Corresponding to our F statistics drug x gender:  0.5499215848880679\n"
     ]
    }
   ],
   "source": [
    "from scipy.stats import f\n",
    "\n",
    "print(\"P Value Corresponding to our F statistics drug: \", f\"{1 - f.cdf(F_A, 1, 16)}\")\n",
    "print(\"P Value Corresponding to our F statistics gender: \", f\"{1 - f.cdf(F_B, 1, 16)}\")\n",
    "print(\"P Value Corresponding to our F statistics drug x gender: \", f\"{1 - f.cdf(F_bet, 1, 16)}\")"
   ]
  },
  {
   "cell_type": "markdown",
   "metadata": {},
   "source": [
    "### Directly Implementing 2 way ANOVA using Ordinary Least Squares function from statsmodels.ols"
   ]
  },
  {
   "cell_type": "code",
   "execution_count": 15,
   "metadata": {},
   "outputs": [
    {
     "data": {
      "text/html": [
       "<div>\n",
       "<style scoped>\n",
       "    .dataframe tbody tr th:only-of-type {\n",
       "        vertical-align: middle;\n",
       "    }\n",
       "\n",
       "    .dataframe tbody tr th {\n",
       "        vertical-align: top;\n",
       "    }\n",
       "\n",
       "    .dataframe thead th {\n",
       "        text-align: right;\n",
       "    }\n",
       "</style>\n",
       "<table border=\"1\" class=\"dataframe\">\n",
       "  <thead>\n",
       "    <tr style=\"text-align: right;\">\n",
       "      <th></th>\n",
       "      <th>df</th>\n",
       "      <th>sum_sq</th>\n",
       "      <th>mean_sq</th>\n",
       "      <th>F</th>\n",
       "      <th>PR(&gt;F)</th>\n",
       "    </tr>\n",
       "  </thead>\n",
       "  <tbody>\n",
       "    <tr>\n",
       "      <th>C(drug)</th>\n",
       "      <td>1.0</td>\n",
       "      <td>5.0</td>\n",
       "      <td>5.000</td>\n",
       "      <td>1.036269</td>\n",
       "      <td>0.323838</td>\n",
       "    </tr>\n",
       "    <tr>\n",
       "      <th>C(gender)</th>\n",
       "      <td>1.0</td>\n",
       "      <td>0.8</td>\n",
       "      <td>0.800</td>\n",
       "      <td>0.165803</td>\n",
       "      <td>0.689265</td>\n",
       "    </tr>\n",
       "    <tr>\n",
       "      <th>C(drug):C(gender)</th>\n",
       "      <td>1.0</td>\n",
       "      <td>1.8</td>\n",
       "      <td>1.800</td>\n",
       "      <td>0.373057</td>\n",
       "      <td>0.549922</td>\n",
       "    </tr>\n",
       "    <tr>\n",
       "      <th>Residual</th>\n",
       "      <td>16.0</td>\n",
       "      <td>77.2</td>\n",
       "      <td>4.825</td>\n",
       "      <td>NaN</td>\n",
       "      <td>NaN</td>\n",
       "    </tr>\n",
       "  </tbody>\n",
       "</table>\n",
       "</div>"
      ],
      "text/plain": [
       "                     df  sum_sq  mean_sq         F    PR(>F)\n",
       "C(drug)             1.0     5.0    5.000  1.036269  0.323838\n",
       "C(gender)           1.0     0.8    0.800  0.165803  0.689265\n",
       "C(drug):C(gender)   1.0     1.8    1.800  0.373057  0.549922\n",
       "Residual           16.0    77.2    4.825       NaN       NaN"
      ]
     },
     "execution_count": 15,
     "metadata": {},
     "output_type": "execute_result"
    }
   ],
   "source": [
    "model = ols(\n",
    "    \"dv ~ C(drug)*C(gender)\",\n",
    "    data=data,\n",
    ").fit()\n",
    "sm.stats.anova_lm(model, typ=1)  # Type 2 ANOVA DataFrame"
   ]
  },
  {
   "cell_type": "code",
   "execution_count": 20,
   "metadata": {},
   "outputs": [
    {
     "name": "stdout",
     "output_type": "stream",
     "text": [
      "91.7708849977217\n"
     ]
    }
   ],
   "source": [
    "print(model.aic.__doc__)"
   ]
  },
  {
   "cell_type": "code",
   "execution_count": 16,
   "metadata": {},
   "outputs": [
    {
     "data": {
      "text/html": [
       "<div>\n",
       "<style scoped>\n",
       "    .dataframe tbody tr th:only-of-type {\n",
       "        vertical-align: middle;\n",
       "    }\n",
       "\n",
       "    .dataframe tbody tr th {\n",
       "        vertical-align: top;\n",
       "    }\n",
       "\n",
       "    .dataframe thead th {\n",
       "        text-align: right;\n",
       "    }\n",
       "</style>\n",
       "<table border=\"1\" class=\"dataframe\">\n",
       "  <thead>\n",
       "    <tr style=\"text-align: right;\">\n",
       "      <th></th>\n",
       "      <th>df</th>\n",
       "      <th>sum_sq</th>\n",
       "      <th>mean_sq</th>\n",
       "      <th>F</th>\n",
       "      <th>PR(&gt;F)</th>\n",
       "    </tr>\n",
       "  </thead>\n",
       "  <tbody>\n",
       "    <tr>\n",
       "      <th>C(drug)</th>\n",
       "      <td>1.0</td>\n",
       "      <td>5.0</td>\n",
       "      <td>5.000</td>\n",
       "      <td>1.036269</td>\n",
       "      <td>0.323838</td>\n",
       "    </tr>\n",
       "    <tr>\n",
       "      <th>C(gender)</th>\n",
       "      <td>1.0</td>\n",
       "      <td>0.8</td>\n",
       "      <td>0.800</td>\n",
       "      <td>0.165803</td>\n",
       "      <td>0.689265</td>\n",
       "    </tr>\n",
       "    <tr>\n",
       "      <th>C(drug):C(gender)</th>\n",
       "      <td>1.0</td>\n",
       "      <td>1.8</td>\n",
       "      <td>1.800</td>\n",
       "      <td>0.373057</td>\n",
       "      <td>0.549922</td>\n",
       "    </tr>\n",
       "    <tr>\n",
       "      <th>Residual</th>\n",
       "      <td>16.0</td>\n",
       "      <td>77.2</td>\n",
       "      <td>4.825</td>\n",
       "      <td>NaN</td>\n",
       "      <td>NaN</td>\n",
       "    </tr>\n",
       "  </tbody>\n",
       "</table>\n",
       "</div>"
      ],
      "text/plain": [
       "                     df  sum_sq  mean_sq         F    PR(>F)\n",
       "C(drug)             1.0     5.0    5.000  1.036269  0.323838\n",
       "C(gender)           1.0     0.8    0.800  0.165803  0.689265\n",
       "C(drug):C(gender)   1.0     1.8    1.800  0.373057  0.549922\n",
       "Residual           16.0    77.2    4.825       NaN       NaN"
      ]
     },
     "execution_count": 16,
     "metadata": {},
     "output_type": "execute_result"
    }
   ],
   "source": [
    "model = ols(\n",
    "    \"dv ~ C(drug)+C(gender)+C(drug):C(gender)\",\n",
    "    data=data,\n",
    ").fit()\n",
    "sm.stats.anova_lm(model, typ=1)  # Type 2 ANOVA DataFrame"
   ]
  },
  {
   "cell_type": "code",
   "execution_count": 22,
   "metadata": {},
   "outputs": [
    {
     "name": "stdout",
     "output_type": "stream",
     "text": [
      "\n",
      "    Results class for for an OLS model.\n",
      "\n",
      "    Parameters\n",
      "    ----------\n",
      "    model : RegressionModel\n",
      "        The regression model instance.\n",
      "    params : ndarray\n",
      "        The estimated parameters.\n",
      "    normalized_cov_params : ndarray\n",
      "        The normalized covariance parameters.\n",
      "    scale : float\n",
      "        The estimated scale of the residuals.\n",
      "    cov_type : str\n",
      "        The covariance estimator used in the results.\n",
      "    cov_kwds : dict\n",
      "        Additional keywords used in the covariance specification.\n",
      "    use_t : bool\n",
      "        Flag indicating to use the Student's t in inference.\n",
      "    **kwargs\n",
      "        Additional keyword arguments used to initialize the results.\n",
      "\n",
      "    See Also\n",
      "    --------\n",
      "    RegressionResults\n",
      "        Results store for WLS and GLW models.\n",
      "\n",
      "    Notes\n",
      "    -----\n",
      "    Most of the methods and attributes are inherited from RegressionResults.\n",
      "    The special methods that are only available for OLS are:\n",
      "\n",
      "    - get_influence\n",
      "    - outlier_test\n",
      "    - el_test\n",
      "    - conf_int_el\n",
      "    \n"
     ]
    }
   ],
   "source": [
    "print(model.__doc__)"
   ]
  },
  {
   "cell_type": "code",
   "execution_count": 25,
   "metadata": {},
   "outputs": [
    {
     "name": "stdout",
     "output_type": "stream",
     "text": [
      "\n",
      "        Test observations for outliers according to method.\n",
      "\n",
      "        Parameters\n",
      "        ----------\n",
      "        method : str\n",
      "            The method to use in the outlier test.  Must be one of:\n",
      "\n",
      "            - `bonferroni` : one-step correction\n",
      "            - `sidak` : one-step correction\n",
      "            - `holm-sidak` :\n",
      "            - `holm` :\n",
      "            - `simes-hochberg` :\n",
      "            - `hommel` :\n",
      "            - `fdr_bh` : Benjamini/Hochberg\n",
      "            - `fdr_by` : Benjamini/Yekutieli\n",
      "\n",
      "            See `statsmodels.stats.multitest.multipletests` for details.\n",
      "        alpha : float\n",
      "            The familywise error rate (FWER).\n",
      "        labels : None or array_like\n",
      "            If `labels` is not None, then it will be used as index to the\n",
      "            returned pandas DataFrame. See also Returns below.\n",
      "        order : bool\n",
      "            Whether or not to order the results by the absolute value of the\n",
      "            studentized residuals. If labels are provided they will also be\n",
      "            sorted.\n",
      "        cutoff : None or float in [0, 1]\n",
      "            If cutoff is not None, then the return only includes observations\n",
      "            with multiple testing corrected p-values strictly below the cutoff.\n",
      "            The returned array or dataframe can be empty if t.\n",
      "\n",
      "        Returns\n",
      "        -------\n",
      "        array_like\n",
      "            Returns either an ndarray or a DataFrame if labels is not None.\n",
      "            Will attempt to get labels from model_results if available. The\n",
      "            columns are the Studentized residuals, the unadjusted p-value,\n",
      "            and the corrected p-value according to method.\n",
      "\n",
      "        Notes\n",
      "        -----\n",
      "        The unadjusted p-value is stats.t.sf(abs(resid), df) where\n",
      "        df = df_resid - 1.\n",
      "        \n"
     ]
    }
   ],
   "source": [
    "print(model.outlier_test.__doc__)"
   ]
  },
  {
   "cell_type": "code",
   "execution_count": 26,
   "metadata": {},
   "outputs": [
    {
     "name": "stdout",
     "output_type": "stream",
     "text": [
      "                            OLS Regression Results                            \n",
      "==============================================================================\n",
      "Dep. Variable:                     dv   R-squared:                       0.090\n",
      "Model:                            OLS   Adj. R-squared:                 -0.081\n",
      "Method:                 Least Squares   F-statistic:                    0.5250\n",
      "Date:                Sat, 18 Jan 2025   Prob (F-statistic):              0.671\n",
      "Time:                        17:57:52   Log-Likelihood:                -41.885\n",
      "No. Observations:                  20   AIC:                             91.77\n",
      "Df Residuals:                      16   BIC:                             95.75\n",
      "Df Model:                           3                                         \n",
      "Covariance Type:            nonrobust                                         \n",
      "==================================================================================================\n",
      "                                     coef    std err          t      P>|t|      [0.025      0.975]\n",
      "--------------------------------------------------------------------------------------------------\n",
      "Intercept                          6.0000      0.982      6.108      0.000       3.918       8.082\n",
      "C(drug)[T.B]                      -1.6000      1.389     -1.152      0.266      -4.545       1.345\n",
      "C(gender)[T.male]                 -0.2000      1.389     -0.144      0.887      -3.145       2.745\n",
      "C(drug)[T.B]:C(gender)[T.male]     1.2000      1.965      0.611      0.550      -2.965       5.365\n",
      "==============================================================================\n",
      "Omnibus:                        1.184   Durbin-Watson:                   2.565\n",
      "Prob(Omnibus):                  0.553   Jarque-Bera (JB):                0.899\n",
      "Skew:                           0.491   Prob(JB):                        0.638\n",
      "Kurtosis:                       2.658   Cond. No.                         6.85\n",
      "==============================================================================\n",
      "\n",
      "Notes:\n",
      "[1] Standard Errors assume that the covariance matrix of the errors is correctly specified.\n"
     ]
    }
   ],
   "source": [
    "print(model.summary())"
   ]
  },
  {
   "cell_type": "markdown",
   "metadata": {},
   "source": [
    "# Assignment"
   ]
  },
  {
   "cell_type": "markdown",
   "metadata": {},
   "source": [
    "### Using car_data dataset from our previous session Compute 2 Way ANOVA from Scratch\n",
    "\n",
    "- Dependent Variable **conformity** or **fscore** (you can take any)\n",
    "- Independent Variable **partner_status** and **conformity**"
   ]
  },
  {
   "cell_type": "code",
   "execution_count": 6,
   "metadata": {},
   "outputs": [
    {
     "name": "stdout",
     "output_type": "stream",
     "text": [
      "dict_keys(['data', '__doc__', 'package', 'title', 'from_cache'])\n",
      "Status, Authoritarianism, and Conformity\n"
     ]
    }
   ],
   "source": [
    "moore = sm.datasets.get_rdataset(\"Moore\", \"carData\", cache=True)  # load data\n",
    "# Printing all the values we have in the moore dataset\n",
    "print(moore.keys())\n",
    "print(moore.title)\n",
    "data = moore.data\n",
    "data = data.rename(columns={\"partner.status\": \"partner_status\"})  # make name"
   ]
  },
  {
   "cell_type": "code",
   "execution_count": 7,
   "metadata": {},
   "outputs": [
    {
     "data": {
      "text/plain": [
       "(45, 4)"
      ]
     },
     "execution_count": 7,
     "metadata": {},
     "output_type": "execute_result"
    }
   ],
   "source": [
    "data.shape"
   ]
  },
  {
   "cell_type": "code",
   "execution_count": 8,
   "metadata": {},
   "outputs": [
    {
     "data": {
      "text/html": [
       "<div>\n",
       "<style scoped>\n",
       "    .dataframe tbody tr th:only-of-type {\n",
       "        vertical-align: middle;\n",
       "    }\n",
       "\n",
       "    .dataframe tbody tr th {\n",
       "        vertical-align: top;\n",
       "    }\n",
       "\n",
       "    .dataframe thead th {\n",
       "        text-align: right;\n",
       "    }\n",
       "</style>\n",
       "<table border=\"1\" class=\"dataframe\">\n",
       "  <thead>\n",
       "    <tr style=\"text-align: right;\">\n",
       "      <th></th>\n",
       "      <th>partner_status</th>\n",
       "      <th>conformity</th>\n",
       "      <th>fcategory</th>\n",
       "      <th>fscore</th>\n",
       "    </tr>\n",
       "  </thead>\n",
       "  <tbody>\n",
       "    <tr>\n",
       "      <th>25</th>\n",
       "      <td>high</td>\n",
       "      <td>9</td>\n",
       "      <td>high</td>\n",
       "      <td>63</td>\n",
       "    </tr>\n",
       "    <tr>\n",
       "      <th>34</th>\n",
       "      <td>high</td>\n",
       "      <td>8</td>\n",
       "      <td>medium</td>\n",
       "      <td>42</td>\n",
       "    </tr>\n",
       "    <tr>\n",
       "      <th>39</th>\n",
       "      <td>high</td>\n",
       "      <td>7</td>\n",
       "      <td>medium</td>\n",
       "      <td>50</td>\n",
       "    </tr>\n",
       "    <tr>\n",
       "      <th>9</th>\n",
       "      <td>low</td>\n",
       "      <td>12</td>\n",
       "      <td>low</td>\n",
       "      <td>36</td>\n",
       "    </tr>\n",
       "    <tr>\n",
       "      <th>33</th>\n",
       "      <td>high</td>\n",
       "      <td>20</td>\n",
       "      <td>medium</td>\n",
       "      <td>44</td>\n",
       "    </tr>\n",
       "    <tr>\n",
       "      <th>20</th>\n",
       "      <td>low</td>\n",
       "      <td>8</td>\n",
       "      <td>low</td>\n",
       "      <td>17</td>\n",
       "    </tr>\n",
       "    <tr>\n",
       "      <th>31</th>\n",
       "      <td>high</td>\n",
       "      <td>16</td>\n",
       "      <td>medium</td>\n",
       "      <td>45</td>\n",
       "    </tr>\n",
       "    <tr>\n",
       "      <th>12</th>\n",
       "      <td>low</td>\n",
       "      <td>7</td>\n",
       "      <td>low</td>\n",
       "      <td>28</td>\n",
       "    </tr>\n",
       "    <tr>\n",
       "      <th>6</th>\n",
       "      <td>low</td>\n",
       "      <td>12</td>\n",
       "      <td>medium</td>\n",
       "      <td>51</td>\n",
       "    </tr>\n",
       "    <tr>\n",
       "      <th>28</th>\n",
       "      <td>high</td>\n",
       "      <td>17</td>\n",
       "      <td>medium</td>\n",
       "      <td>48</td>\n",
       "    </tr>\n",
       "  </tbody>\n",
       "</table>\n",
       "</div>"
      ],
      "text/plain": [
       "   partner_status  conformity fcategory  fscore\n",
       "25           high           9      high      63\n",
       "34           high           8    medium      42\n",
       "39           high           7    medium      50\n",
       "9             low          12       low      36\n",
       "33           high          20    medium      44\n",
       "20            low           8       low      17\n",
       "31           high          16    medium      45\n",
       "12            low           7       low      28\n",
       "6             low          12    medium      51\n",
       "28           high          17    medium      48"
      ]
     },
     "execution_count": 8,
     "metadata": {},
     "output_type": "execute_result"
    }
   ],
   "source": [
    "data.sample(10)"
   ]
  },
  {
   "cell_type": "code",
   "execution_count": 36,
   "metadata": {},
   "outputs": [
    {
     "data": {
      "text/html": [
       "<div>\n",
       "<style scoped>\n",
       "    .dataframe tbody tr th:only-of-type {\n",
       "        vertical-align: middle;\n",
       "    }\n",
       "\n",
       "    .dataframe tbody tr th {\n",
       "        vertical-align: top;\n",
       "    }\n",
       "\n",
       "    .dataframe thead th {\n",
       "        text-align: right;\n",
       "    }\n",
       "</style>\n",
       "<table border=\"1\" class=\"dataframe\">\n",
       "  <thead>\n",
       "    <tr style=\"text-align: right;\">\n",
       "      <th></th>\n",
       "      <th>df</th>\n",
       "      <th>sum_sq</th>\n",
       "      <th>mean_sq</th>\n",
       "      <th>F</th>\n",
       "      <th>PR(&gt;F)</th>\n",
       "    </tr>\n",
       "  </thead>\n",
       "  <tbody>\n",
       "    <tr>\n",
       "      <th>C(partner_status)</th>\n",
       "      <td>1.0</td>\n",
       "      <td>7.932587</td>\n",
       "      <td>7.932587</td>\n",
       "      <td>0.038212</td>\n",
       "      <td>0.845939</td>\n",
       "    </tr>\n",
       "    <tr>\n",
       "      <th>Residual</th>\n",
       "      <td>43.0</td>\n",
       "      <td>8926.511858</td>\n",
       "      <td>207.593299</td>\n",
       "      <td>NaN</td>\n",
       "      <td>NaN</td>\n",
       "    </tr>\n",
       "  </tbody>\n",
       "</table>\n",
       "</div>"
      ],
      "text/plain": [
       "                     df       sum_sq     mean_sq         F    PR(>F)\n",
       "C(partner_status)   1.0     7.932587    7.932587  0.038212  0.845939\n",
       "Residual           43.0  8926.511858  207.593299       NaN       NaN"
      ]
     },
     "execution_count": 36,
     "metadata": {},
     "output_type": "execute_result"
    }
   ],
   "source": [
    "moore_lm = ols(\n",
    "    \"fscore ~ C(partner_status)\",\n",
    "    data=data,\n",
    ").fit()\n",
    "sm.stats.anova_lm(moore_lm, typ=1)  # Type 2 ANOVA DataFrame"
   ]
  },
  {
   "cell_type": "code",
   "execution_count": 42,
   "metadata": {},
   "outputs": [
    {
     "data": {
      "text/html": [
       "<div>\n",
       "<style scoped>\n",
       "    .dataframe tbody tr th:only-of-type {\n",
       "        vertical-align: middle;\n",
       "    }\n",
       "\n",
       "    .dataframe tbody tr th {\n",
       "        vertical-align: top;\n",
       "    }\n",
       "\n",
       "    .dataframe thead th {\n",
       "        text-align: right;\n",
       "    }\n",
       "</style>\n",
       "<table border=\"1\" class=\"dataframe\">\n",
       "  <thead>\n",
       "    <tr style=\"text-align: right;\">\n",
       "      <th></th>\n",
       "      <th>df</th>\n",
       "      <th>sum_sq</th>\n",
       "      <th>mean_sq</th>\n",
       "      <th>F</th>\n",
       "      <th>PR(&gt;F)</th>\n",
       "    </tr>\n",
       "  </thead>\n",
       "  <tbody>\n",
       "    <tr>\n",
       "      <th>C(partner_status)</th>\n",
       "      <td>1.0</td>\n",
       "      <td>7.932587</td>\n",
       "      <td>7.932587</td>\n",
       "      <td>0.231555</td>\n",
       "      <td>6.330623e-01</td>\n",
       "    </tr>\n",
       "    <tr>\n",
       "      <th>C(fcategory)</th>\n",
       "      <td>2.0</td>\n",
       "      <td>7561.365635</td>\n",
       "      <td>3780.682818</td>\n",
       "      <td>110.359336</td>\n",
       "      <td>8.768957e-17</td>\n",
       "    </tr>\n",
       "    <tr>\n",
       "      <th>C(partner_status):C(fcategory)</th>\n",
       "      <td>2.0</td>\n",
       "      <td>29.086807</td>\n",
       "      <td>14.543403</td>\n",
       "      <td>0.424527</td>\n",
       "      <td>6.570656e-01</td>\n",
       "    </tr>\n",
       "    <tr>\n",
       "      <th>Residual</th>\n",
       "      <td>39.0</td>\n",
       "      <td>1336.059416</td>\n",
       "      <td>34.257934</td>\n",
       "      <td>NaN</td>\n",
       "      <td>NaN</td>\n",
       "    </tr>\n",
       "  </tbody>\n",
       "</table>\n",
       "</div>"
      ],
      "text/plain": [
       "                                  df       sum_sq      mean_sq           F  \\\n",
       "C(partner_status)                1.0     7.932587     7.932587    0.231555   \n",
       "C(fcategory)                     2.0  7561.365635  3780.682818  110.359336   \n",
       "C(partner_status):C(fcategory)   2.0    29.086807    14.543403    0.424527   \n",
       "Residual                        39.0  1336.059416    34.257934         NaN   \n",
       "\n",
       "                                      PR(>F)  \n",
       "C(partner_status)               6.330623e-01  \n",
       "C(fcategory)                    8.768957e-17  \n",
       "C(partner_status):C(fcategory)  6.570656e-01  \n",
       "Residual                                 NaN  "
      ]
     },
     "execution_count": 42,
     "metadata": {},
     "output_type": "execute_result"
    }
   ],
   "source": [
    "moore_lm = ols(\n",
    "    \"fscore ~ C(partner_status)+C(fcategory)+C(partner_status):C(fcategory)\",\n",
    "    data=data,\n",
    ").fit()\n",
    "sm.stats.anova_lm(moore_lm, typ=1)  # Type 2 ANOVA DataFrame"
   ]
  },
  {
   "cell_type": "code",
   "execution_count": 43,
   "metadata": {},
   "outputs": [
    {
     "name": "stdout",
     "output_type": "stream",
     "text": [
      "                            OLS Regression Results                            \n",
      "==============================================================================\n",
      "Dep. Variable:                 fscore   R-squared:                       0.850\n",
      "Model:                            OLS   Adj. R-squared:                  0.831\n",
      "Method:                 Least Squares   F-statistic:                     44.36\n",
      "Date:                Thu, 16 Jan 2025   Prob (F-statistic):           4.57e-15\n",
      "Time:                        16:25:14   Log-Likelihood:                -140.15\n",
      "No. Observations:                  45   AIC:                             292.3\n",
      "Df Residuals:                      39   BIC:                             303.1\n",
      "Df Model:                           5                                         \n",
      "Covariance Type:            nonrobust                                         \n",
      "===================================================================================================================\n",
      "                                                      coef    std err          t      P>|t|      [0.025      0.975]\n",
      "-------------------------------------------------------------------------------------------------------------------\n",
      "Intercept                                          57.8571      2.212     26.153      0.000      53.382      62.332\n",
      "C(partner_status)[T.low]                            1.2679      3.029      0.419      0.678      -4.859       7.395\n",
      "C(fcategory)[T.low]                               -34.2571      3.427     -9.996      0.000     -41.189     -27.325\n",
      "C(fcategory)[T.medium]                            -14.4026      2.830     -5.089      0.000     -20.127      -8.679\n",
      "C(partner_status)[T.low]:C(fcategory)[T.low]        3.7321      4.411      0.846      0.403      -5.189      12.653\n",
      "C(partner_status)[T.low]:C(fcategory)[T.medium]     0.2776      4.567      0.061      0.952      -8.959       9.515\n",
      "==============================================================================\n",
      "Omnibus:                        0.460   Durbin-Watson:                   2.595\n",
      "Prob(Omnibus):                  0.795   Jarque-Bera (JB):                0.593\n",
      "Skew:                           0.054   Prob(JB):                        0.744\n",
      "Kurtosis:                       2.448   Cond. No.                         10.1\n",
      "==============================================================================\n",
      "\n",
      "Notes:\n",
      "[1] Standard Errors assume that the covariance matrix of the errors is correctly specified.\n"
     ]
    }
   ],
   "source": [
    "print(moore_lm.summary())"
   ]
  }
 ],
 "metadata": {
  "kernelspec": {
   "display_name": "base",
   "language": "python",
   "name": "python3"
  },
  "language_info": {
   "codemirror_mode": {
    "name": "ipython",
    "version": 3
   },
   "file_extension": ".py",
   "mimetype": "text/x-python",
   "name": "python",
   "nbconvert_exporter": "python",
   "pygments_lexer": "ipython3",
   "version": "3.11.5"
  }
 },
 "nbformat": 4,
 "nbformat_minor": 2
}
