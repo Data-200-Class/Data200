{
 "cells": [
  {
   "cell_type": "markdown",
   "metadata": {
    "id": "wVNDxSwlU0ih"
   },
   "source": [
    "# Logistic Regression\n",
    "\n",
    "## Prerequisites:\n",
    "\n",
    "To start with Logistic Regression, you must have/know:\n",
    "- An intuitive understanding of exponential functions and logarithms.\n",
    "- Familiarity with linear regression.\n",
    "\n",
    "## Learning Objective: \n",
    "\n",
    "- Explain the issues with linear regression for classification.\n",
    "- Define logistic or sigmoid function.\n",
    "- Interpret the output of logistic regression.\n",
    "- Define decision boundary.\n",
    "- Implement logistic regression in Python with Scikit-learn.\n",
    "- Evaluate the logistic regression model using several classification metrics.\n",
    "\n",
    "## Detailed Syllabus:\n",
    " \n",
    "* Classification\n",
    "  - Issues with using linear regression for classification\n",
    "\n",
    "*  Logistic Regression\n",
    "  - Logistic/Sigmoid function\n",
    "  - Fitting a simple logistic regression model\n",
    "  - Interpreting the output of logistic regression\n",
    "  - Decision Boundary \n",
    "\n",
    "\n",
    "\n",
    "* Classification Programming: Apply logistic regression skills to a real-world dataset using Scikit-Learn."
   ]
  },
  {
   "cell_type": "markdown",
   "metadata": {
    "id": "qJ1ZszI_MrjQ"
   },
   "source": [
    "## Classification"
   ]
  },
  {
   "cell_type": "markdown",
   "metadata": {
    "id": "HNpPZJxCL_DX"
   },
   "source": [
    "In the previous unit, you learned about one of the supervised learning tasks called regression where the goal was to predict a continuous real value. In this unit, you will learn about another type of supervised learning task called classification. \n",
    "\n",
    "In classification, we predict a **discrete** value or label as opposed to the continuous value predicted by linear regression . **A particular discrete value or label represents a particular class**. Therefore, we are actually predicting which class a sample belongs to based on its features. For example, predicting if a person has a disease or not. Here, having the disease can be represented using a discrete value 1 and not having the disease can be represented using another discrete value of 0. Similarly, here are some other simple examples of the classification problem \n",
    "- predicting if an image is of a cat (0) or a dog (1), \n",
    "- predicting if a car will get sold (1) or not (0), \n",
    "- classifying an email as spam (1) or not (0)\n",
    "  \n",
    "There are many machine learning algorithms that can be used to solve a classification problem. Logistic regression is one of them and like many others, you will also start your journey of solving classification problems via logistic regression.  \n",
    " \n",
    "\n"
   ]
  },
  {
   "cell_type": "markdown",
   "metadata": {
    "id": "Hq4PDmu0silb"
   },
   "source": [
    "### Imports"
   ]
  },
  {
   "cell_type": "code",
   "execution_count": 1,
   "metadata": {
    "id": "cFf1LvdFsZjR"
   },
   "outputs": [],
   "source": [
    "import pandas as pd\n",
    "import numpy as np\n",
    "import matplotlib.pyplot as plt"
   ]
  },
  {
   "cell_type": "markdown",
   "metadata": {
    "id": "NewXTkXTrO-_"
   },
   "source": [
    "###Synthetic Dataset"
   ]
  },
  {
   "cell_type": "markdown",
   "metadata": {
    "id": "vI53Hj2Ws_63"
   },
   "source": [
    "To better understand classification problems and logistic regression, we will start with a simple synthetic example. The example contains the GRE score of the students as a feature $x$ and a corresponding label $y$ with values 1 or 0 indicating the admission of the particular student to a university.\n",
    " \n",
    "Here,\n",
    "  \n",
    "* 1 - The student gets admission\n",
    " \n",
    "* 0 - The student does not get admission.\n",
    " \n",
    "We use  [`sklearn.datasets.make_classification`](https://scikit-learn.org/stable/modules/generated/sklearn.datasets.make_classification.html) inside  `generate_dataset` function below to generate a dataset with 20 samples. \n",
    "\n"
   ]
  },
  {
   "cell_type": "code",
   "execution_count": 2,
   "metadata": {
    "id": "50I5IIh21_kc"
   },
   "outputs": [],
   "source": [
    "from sklearn.datasets import make_classification\n",
    "\n",
    "def generate_dataset():\n",
    "  dataset = make_classification(n_samples=20, n_features=1, n_repeated=0, n_redundant=0,  shift=30, \n",
    "                                scale=10, n_classes=2, n_clusters_per_class=1, n_informative=1, \n",
    "                                class_sep=1, random_state=1)\n",
    "  df = pd.DataFrame(dataset[0])\n",
    "  df = pd.concat([(np.ceil(df)).astype(int), pd.DataFrame(dataset[1])], axis=1)\n",
    "  df.columns = ['GRE_Score', 'Admission']\n",
    "  return df"
   ]
  },
  {
   "cell_type": "code",
   "execution_count": 3,
   "metadata": {
    "colab": {
     "base_uri": "https://localhost:8080/",
     "height": 197
    },
    "executionInfo": {
     "elapsed": 3016,
     "status": "ok",
     "timestamp": 1594616509776,
     "user": {
      "displayName": "Rojen B.N Pradhan",
      "photoUrl": "https://lh3.googleusercontent.com/a-/AOh14Ggzj8VqdRTRq7qGxhXZEkej0NHjZ0_6JfVRU8BU=s64",
      "userId": "11019520446215967419"
     },
     "user_tz": -345
    },
    "id": "M-XyEsejt1Zm",
    "outputId": "e57c95e3-bd45-47d3-9742-86adb4619a6b"
   },
   "outputs": [
    {
     "data": {
      "text/html": [
       "<div>\n",
       "<style scoped>\n",
       "    .dataframe tbody tr th:only-of-type {\n",
       "        vertical-align: middle;\n",
       "    }\n",
       "\n",
       "    .dataframe tbody tr th {\n",
       "        vertical-align: top;\n",
       "    }\n",
       "\n",
       "    .dataframe thead th {\n",
       "        text-align: right;\n",
       "    }\n",
       "</style>\n",
       "<table border=\"1\" class=\"dataframe\">\n",
       "  <thead>\n",
       "    <tr style=\"text-align: right;\">\n",
       "      <th></th>\n",
       "      <th>GRE_Score</th>\n",
       "      <th>Admission</th>\n",
       "    </tr>\n",
       "  </thead>\n",
       "  <tbody>\n",
       "    <tr>\n",
       "      <th>0</th>\n",
       "      <td>310</td>\n",
       "      <td>1</td>\n",
       "    </tr>\n",
       "    <tr>\n",
       "      <th>1</th>\n",
       "      <td>297</td>\n",
       "      <td>0</td>\n",
       "    </tr>\n",
       "    <tr>\n",
       "      <th>2</th>\n",
       "      <td>318</td>\n",
       "      <td>1</td>\n",
       "    </tr>\n",
       "    <tr>\n",
       "      <th>3</th>\n",
       "      <td>290</td>\n",
       "      <td>0</td>\n",
       "    </tr>\n",
       "    <tr>\n",
       "      <th>4</th>\n",
       "      <td>288</td>\n",
       "      <td>0</td>\n",
       "    </tr>\n",
       "  </tbody>\n",
       "</table>\n",
       "</div>"
      ],
      "text/plain": [
       "   GRE_Score  Admission\n",
       "0        310          1\n",
       "1        297          0\n",
       "2        318          1\n",
       "3        290          0\n",
       "4        288          0"
      ]
     },
     "execution_count": 3,
     "metadata": {},
     "output_type": "execute_result"
    }
   ],
   "source": [
    "dataset = generate_dataset()\n",
    "dataset.head()"
   ]
  },
  {
   "cell_type": "markdown",
   "metadata": {
    "id": "J4FWNrWb2T8J"
   },
   "source": [
    "Based on the dataset generated above, the task here is to predict if a student gets admission or not given their GRE Score. Even though this is a classification problem with $y$ taking on discrete values (1 and 0), we will first approach this problem using linear regression and discuss if it can predict $y$ given $x$. \n",
    "\n",
    "Before moving further, let's plot and see how the data looks."
   ]
  },
  {
   "cell_type": "code",
   "execution_count": 4,
   "metadata": {
    "colab": {
     "base_uri": "https://localhost:8080/",
     "height": 294
    },
    "executionInfo": {
     "elapsed": 2999,
     "status": "ok",
     "timestamp": 1594616509779,
     "user": {
      "displayName": "Rojen B.N Pradhan",
      "photoUrl": "https://lh3.googleusercontent.com/a-/AOh14Ggzj8VqdRTRq7qGxhXZEkej0NHjZ0_6JfVRU8BU=s64",
      "userId": "11019520446215967419"
     },
     "user_tz": -345
    },
    "id": "Et1fgz397LqC",
    "outputId": "fb4c94d3-64e5-4f48-a771-c116e6688e93"
   },
   "outputs": [
    {
     "data": {
      "image/png": "[encoded data removed]",
      "text/plain": [
       "<Figure size 640x480 with 1 Axes>"
      ]
     },
     "metadata": {},
     "output_type": "display_data"
    }
   ],
   "source": [
    "map_color = np.array(['r', 'b'])\n",
    "\n",
    "x = dataset.iloc[:, :-1].values\n",
    "y = dataset.iloc[:, 1].values\n",
    "\n",
    "plt.scatter(dataset.GRE_Score, dataset.Admission, c = map_color[y])\n",
    "\n",
    "plt.title('GRE Score and Admission')\n",
    "plt.xlabel('GRE Score')\n",
    "plt.ylabel('Gets Admission - Yes or No')\n",
    "plt.show()"
   ]
  },
  {
   "cell_type": "markdown",
   "metadata": {
    "id": "iqsQuHD4X6Ub"
   },
   "source": [
    "If you recall, the above scatter plot looks different than that we saw in the Linear Regression unit. There is no upward or downward trend here. This is because here, $y$ is not a continuous value but either 0 or 1. \n",
    "\n",
    "Now, let’s fit linear regression using Scikit-Learn's [`LinearRegression`](https://scikit-learn.org/stable/modules/generated/sklearn.linear_model.LinearRegression.html) and plot the regression line."
   ]
  },
  {
   "cell_type": "code",
   "execution_count": 5,
   "metadata": {
    "colab": {
     "base_uri": "https://localhost:8080/",
     "height": 294
    },
    "executionInfo": {
     "elapsed": 2984,
     "status": "ok",
     "timestamp": 1594616509780,
     "user": {
      "displayName": "Rojen B.N Pradhan",
      "photoUrl": "https://lh3.googleusercontent.com/a-/AOh14Ggzj8VqdRTRq7qGxhXZEkej0NHjZ0_6JfVRU8BU=s64",
      "userId": "11019520446215967419"
     },
     "user_tz": -345
    },
    "id": "7PO9ktEbYWEY",
    "outputId": "d64f550d-b770-4eb0-ad28-7ff8f3a3a40c"
   },
   "outputs": [
    {
     "data": {
      "image/png": "[encoded data removed]",
      "text/plain": [
       "<Figure size 640x480 with 1 Axes>"
      ]
     },
     "metadata": {},
     "output_type": "display_data"
    }
   ],
   "source": [
    "# Import LinearRegression from sklearn.linear_model\n",
    "from sklearn.linear_model import LinearRegression\n",
    "\n",
    "linearRegressor = LinearRegression()\n",
    "linearRegressor.fit(x, y)\n",
    "\n",
    "plt.scatter(x, y, c=map_color[y])\n",
    "plt.plot(x, linearRegressor.predict(x))\n",
    "plt.title('GRE Score and Admission')\n",
    "plt.xlabel('GRE Score')\n",
    "plt.ylabel('Gets Admission - Yes or No')\n",
    "\n",
    "plt.show()"
   ]
  },
  {
   "cell_type": "code",
   "execution_count": 25,
   "metadata": {},
   "outputs": [
    {
     "data": {
      "image/png": "[encoded data removed]",
      "text/plain": [
       "<Figure size 640x480 with 1 Axes>"
      ]
     },
     "metadata": {},
     "output_type": "display_data"
    }
   ],
   "source": [
    "# Import LinearRegression from sklearn.linear_model\n",
    "from sklearn.linear_model import LogisticRegression\n",
    "\n",
    "logisticRegressor = LogisticRegression()\n",
    "logisticRegressor.fit(x, y)\n",
    "\n",
    "plt.scatter(x, y, c=map_color[y])\n",
    "# plt.plot(x, logisticRegressor.predict_proba(x)[:,1])\n",
    "plt.title('GRE Score and Admission')\n",
    "plt.xlabel('GRE Score')\n",
    "plt.ylabel('Gets Admission - Yes or No')\n",
    "\n",
    "plt.show()"
   ]
  },
  {
   "cell_type": "code",
   "execution_count": 27,
   "metadata": {},
   "outputs": [
    {
     "data": {
      "text/plain": [
       "[<matplotlib.lines.Line2D at 0x7854383e9710>]"
      ]
     },
     "execution_count": 27,
     "metadata": {},
     "output_type": "execute_result"
    },
    {
     "data": {
      "image/png": "[encoded data removed]",
      "text/plain": [
       "<Figure size 640x480 with 1 Axes>"
      ]
     },
     "metadata": {},
     "output_type": "display_data"
    }
   ],
   "source": [
    "plt.plot(x,(logisticRegressor.coef_[0]*x+logisticRegressor.intercept_))"
   ]
  },
  {
   "cell_type": "code",
   "execution_count": 26,
   "metadata": {},
   "outputs": [
    {
     "name": "stdout",
     "output_type": "stream",
     "text": [
      "[[0.75971626]] [-228.81510413]\n"
     ]
    }
   ],
   "source": [
    "print(logisticRegressor.coef_,logisticRegressor.intercept_)"
   ]
  },
  {
   "cell_type": "code",
   "execution_count": 18,
   "metadata": {},
   "outputs": [],
   "source": [
    "X1_min = x.min()\n",
    "X1_max = x.max()"
   ]
  },
  {
   "cell_type": "markdown",
   "metadata": {
    "id": "Ooz2dr2TECC-"
   },
   "source": [
    "We can clearly see that the regression line above is not a good fit for our dataset. Can you explain why? A good fit regression line must pass through most of the data points. Also, linear regression predicts a continuous value but all we want is either 0 or 1 or numbers between 0 and 1 (we will come to this later). Thus, linear regression performs poorly when used for classification tasks. \n",
    "\n",
    "We will now discuss if any modifications to linear regression (hint: we need to squash all the predicted values between 0 and 1) can help us solve the classification task."
   ]
  },
  {
   "cell_type": "markdown",
   "metadata": {
    "id": "HtBZbcqInUYd"
   },
   "source": [
    "## Logistic Regression\n",
    "\n",
    "\n"
   ]
  },
  {
   "cell_type": "markdown",
   "metadata": {
    "id": "B94kMb8rhBxQ"
   },
   "source": [
    "**Let’s recall the equation of simple linear regression from the previous unit.**\n",
    " \n",
    "$$\\hat{y} = \\beta_0 + \\beta_1\\ x$$\n",
    "\n",
    "where  $\\beta_0$ and $\\beta_1$ are the regression coefficients and $x$ is the input feature.\n",
    "\n",
    "**In logistic regression, we pass the output of the linear regression $\\hat{y}$ to a function known as the sigmoid function**. The sigmoid function is of the following form:\n",
    "\n",
    "$$\\sigma(z) = \\frac 1 {(1+ e^{-z})} $$\n",
    "\n",
    " \n",
    "where $z$ is any input real number. We can plot $\\sigma(z)$ as follows:"
   ]
  },
  {
   "cell_type": "code",
   "execution_count": null,
   "metadata": {
    "colab": {
     "base_uri": "https://localhost:8080/",
     "height": 387
    },
    "executionInfo": {
     "elapsed": 4170,
     "status": "ok",
     "timestamp": 1594616511013,
     "user": {
      "displayName": "Rojen B.N Pradhan",
      "photoUrl": "https://lh3.googleusercontent.com/a-/AOh14Ggzj8VqdRTRq7qGxhXZEkej0NHjZ0_6JfVRU8BU=s64",
      "userId": "11019520446215967419"
     },
     "user_tz": -345
    },
    "id": "0juyFZF-vHl4",
    "outputId": "6e0e5599-d83f-4a19-c01c-27621dc78c08"
   },
   "outputs": [
    {
     "data": {
      "image/png": "[encoded data removed]",
      "text/plain": [
       "<Figure size 720x432 with 1 Axes>"
      ]
     },
     "metadata": {
      "needs_background": "light",
      "tags": []
     },
     "output_type": "display_data"
    }
   ],
   "source": [
    "z = np.linspace(-10, 10, 1000) # An array of 1000 elements\n",
    "\n",
    "# Sigmoid function\n",
    "def sigma(z):\n",
    "  return 1/(1 + np.exp(-z)) \n",
    "   \n",
    "plt.figure(figsize=(10,6))\n",
    "plt.plot(z, sigma(z)) \n",
    "plt.xlabel(\"z\") \n",
    "plt.ylabel(\"g(z)\") \n",
    "  \n",
    "plt.show() "
   ]
  },
  {
   "cell_type": "markdown",
   "metadata": {
    "id": "Qf8EKehWhBmu"
   },
   "source": [
    "The function $\\sigma(z)$, shown above, maps any real number to the [0, 1] interval, making it useful for classification. This function $\\sigma(z)$ is sometimes also called the logistic sigmoid function or logistic curve.\n",
    " \n",
    "\n",
    "As mentioned above, $\\hat{y}$ is the input to this sigmoid function $\\sigma(z)$, which means that $z=\\beta_0 + \\beta_1 x$. Let the output of the logistic regression for a sample $x$ be $p(x)$. Then $$p(x) = \\sigma(z) = \\frac 1 {1 + e^{-z}} = \\frac 1 {1 + e^{-(\\beta_0 + \\beta_1x)}}$$ \n",
    "\n",
    "**The output of logistic regression, $p(x)$ gives us the probability of a sample belonging to class 1, and $1-p(x)$ gives us the probability of it belonging to class 0.**\n",
    "\n",
    "From the above equations, we can see that we need to estimate the regression coefficients $\\beta_0$, $\\beta_1$. The discussion of the optimization method used to compute the coefficients is beyond the scope of this chapter. For now, we simply rely on Scikit-Learn's [`LogisticRegression`](https://scikit-learn.org/stable/modules/generated/sklearn.linear_model.LogisticRegression.html) object to compute the values for us."
   ]
  },
  {
   "cell_type": "markdown",
   "metadata": {
    "id": "7tCWw9ndcBPC"
   },
   "source": [
    "### Fitting a simple logistic regression model\n",
    " \n",
    "Let’s understand Logistic Regression better by implementing it on the synthetic dataset we generated earlier. Recall that the model needs to predict whether a student gets admission or not using the GRE score. \n",
    "We are going to use Scikit-Learn's [`LogisticRegression`](https://scikit-learn.org/stable/modules/generated/sklearn.linear_model.LogisticRegression.html) object to solve this classification task. The `LogisticRegression` object has a [`fit`](https://scikit-learn.org/stable/modules/generated/sklearn.linear_model.LogisticRegression.html#sklearn.linear_model.LogisticRegression.fit) method for learning the model. "
   ]
  },
  {
   "cell_type": "code",
   "execution_count": null,
   "metadata": {
    "colab": {
     "base_uri": "https://localhost:8080/",
     "height": 105
    },
    "executionInfo": {
     "elapsed": 4121,
     "status": "ok",
     "timestamp": 1594616511015,
     "user": {
      "displayName": "Rojen B.N Pradhan",
      "photoUrl": "https://lh3.googleusercontent.com/a-/AOh14Ggzj8VqdRTRq7qGxhXZEkej0NHjZ0_6JfVRU8BU=s64",
      "userId": "11019520446215967419"
     },
     "user_tz": -345
    },
    "id": "r6AgH_dAcBPE",
    "outputId": "de738030-e8a8-4e02-eddb-be6f42394f96"
   },
   "outputs": [
    {
     "data": {
      "text/plain": [
       "LogisticRegression(C=1.0, class_weight=None, dual=False, fit_intercept=True,\n",
       "                   intercept_scaling=1, l1_ratio=None, max_iter=100,\n",
       "                   multi_class='auto', n_jobs=None, penalty='l2',\n",
       "                   random_state=None, solver='lbfgs', tol=0.0001, verbose=0,\n",
       "                   warm_start=False)"
      ]
     },
     "execution_count": 77,
     "metadata": {
      "tags": []
     },
     "output_type": "execute_result"
    }
   ],
   "source": [
    "# Import LogisticRegression from sklearn.linear_model\n",
    "from sklearn.linear_model import LogisticRegression\n",
    "\n",
    "logistic_regression = LogisticRegression()\n",
    "logistic_regression.fit(x,y)"
   ]
  },
  {
   "cell_type": "markdown",
   "metadata": {
    "id": "h1P85yv_hBhm"
   },
   "source": [
    "### Interpreting the output of Logistic Regression\n",
    "\n",
    "\n",
    "\n"
   ]
  },
  {
   "cell_type": "markdown",
   "metadata": {
    "id": "4wprekgEdw3P"
   },
   "source": [
    "After fitting logistic regression on the data, we can make predictions. The `LogisticRegression` object has a [`predict`](https://scikit-learn.org/stable/modules/generated/sklearn.linear_model.LogisticRegression.html#sklearn.linear_model.LogisticRegression.predict) method for predicting the class labels. To demonstrate this, we will use the GRE scores of two students (Jacob and Lacy): 304 and 299 respectively (think of this as the examples belonging to the test set) and predict whether they will get admitted or not."
   ]
  },
  {
   "cell_type": "code",
   "execution_count": null,
   "metadata": {
    "colab": {
     "base_uri": "https://localhost:8080/",
     "height": 52
    },
    "executionInfo": {
     "elapsed": 4090,
     "status": "ok",
     "timestamp": 1594616511017,
     "user": {
      "displayName": "Rojen B.N Pradhan",
      "photoUrl": "https://lh3.googleusercontent.com/a-/AOh14Ggzj8VqdRTRq7qGxhXZEkej0NHjZ0_6JfVRU8BU=s64",
      "userId": "11019520446215967419"
     },
     "user_tz": -345
    },
    "id": "AYxlyXRQeLyu",
    "outputId": "94e73dcb-3c70-4224-a915-72a11513e94f"
   },
   "outputs": [
    {
     "name": "stdout",
     "output_type": "stream",
     "text": [
      "The predicted class label for Jacob is: [1]\n",
      "The predicted class label for Lacy is: [0]\n"
     ]
    }
   ],
   "source": [
    "class_label_Jacob = logistic_regression.predict([[304]])\n",
    "print(\"The predicted class label for Jacob is:\", class_label_Jacob)\n",
    "\n",
    "class_label_Lacy = logistic_regression.predict([[299]])\n",
    "print(\"The predicted class label for Lacy is:\", class_label_Lacy)"
   ]
  },
  {
   "cell_type": "markdown",
   "metadata": {
    "id": "bmxwbFzve3V5"
   },
   "source": [
    "The model predicted that Jacob will be admitted while Lacy will be rejected admission. Beyond this, we can also obtain the probabilities of getting admitted or rejected. For this, we can use [predict_proba](https://scikit-learn.org/stable/modules/generated/sklearn.linear_model.LogisticRegression.html#sklearn.linear_model.LogisticRegression.fit) method. "
   ]
  },
  {
   "cell_type": "code",
   "execution_count": null,
   "metadata": {
    "colab": {
     "base_uri": "https://localhost:8080/",
     "height": 52
    },
    "executionInfo": {
     "elapsed": 4067,
     "status": "ok",
     "timestamp": 1594616511019,
     "user": {
      "displayName": "Rojen B.N Pradhan",
      "photoUrl": "https://lh3.googleusercontent.com/a-/AOh14Ggzj8VqdRTRq7qGxhXZEkej0NHjZ0_6JfVRU8BU=s64",
      "userId": "11019520446215967419"
     },
     "user_tz": -345
    },
    "id": "ZbL-OHNQdvge",
    "outputId": "1ca37a43-ea44-4c42-b54a-c06b112f5d10"
   },
   "outputs": [
    {
     "name": "stdout",
     "output_type": "stream",
     "text": [
      "The probabilites for Jacob is: [[0.10539771 0.89460229]]\n",
      "The probabilites for Lacy is: [[0.84023034 0.15976966]]\n"
     ]
    }
   ],
   "source": [
    "probability_Jacob = logistic_regression.predict_proba([[304]])\n",
    "print(\"The probabilites for Jacob is:\", probability_Jacob)\n",
    "\n",
    "probability_Lacy = logistic_regression.predict_proba([[299]])\n",
    "print(\"The probabilites for Lacy is:\", probability_Lacy)"
   ]
  },
  {
   "cell_type": "markdown",
   "metadata": {
    "id": "Uk6aYhwydvgk"
   },
   "source": [
    "We can see that Jacob has an $89.46\\%$ chance of getting admitted while a $10.53\\%$ chance of getting rejected. Similarly, Lacy has a $15.97\\%$ chance of getting admitted while $84.02\\%$ chance of getting rejected.\n",
    "\n",
    "To summarize: we can use [`predict`](https://scikit-learn.org/stable/modules/generated/sklearn.linear_model.LogisticRegression.html#sklearn.linear_model.LogisticRegression.predict) method to directly get the class labels while  [`predict_proba`](https://scikit-learn.org/stable/modules/generated/sklearn.linear_model.LogisticRegression.html#sklearn.linear_model.LogisticRegression.fit) method is to get the probabilities ordered by the label of the classes *i.e.* $[P(y=0)$,$ P(y=1)]$. "
   ]
  },
  {
   "cell_type": "markdown",
   "metadata": {
    "id": "G9YrkWKzwezm"
   },
   "source": [
    "### Decision Boundary\n",
    " \n",
    "Beyond class labels and probabilities, another thing that logistic regression gives us is the decision boundary. **Decision boundary is a hypersurface that separates the region where y = 0 and y = 1**. \n",
    " \n",
    "Visualizing decision boundary in two dimensions will be easier and more intuitive. So, we will use the same student classification example but with one more feature added. Let’s add a feature called CGPA. It is the cumulative GPA of students over all the subjects.\n",
    " \n",
    "As earlier, `generate_dataset_2d` function generates a dataset of 20 examples with 2 features."
   ]
  },
  {
   "cell_type": "code",
   "execution_count": null,
   "metadata": {
    "id": "r86XxMFd68u-"
   },
   "outputs": [],
   "source": [
    "def generate_dataset_2d():\n",
    "  dataset = make_classification(n_samples=20, n_features=2, n_repeated=0, n_redundant=0,  shift=[31,2.6], \n",
    "                                scale=[10, 3], n_classes=2, n_clusters_per_class=1, n_informative=2, \n",
    "                                class_sep=0.9, random_state=10)\n",
    "\n",
    "  y = pd.DataFrame(dataset[1])\n",
    "  y = np.where(y > 0.5, 0, 1)\n",
    "  y = pd.DataFrame(y)\n",
    "  df = pd.DataFrame(dataset[0])\n",
    "  df = pd.concat([(df), y], axis=1)\n",
    "  df.columns = ['GRE_Score', 'CGPA', 'Admission']\n",
    "  df.GRE_Score = np.ceil(df.GRE_Score).astype(int)\n",
    "  df.CGPA = np.around(df.CGPA,1)\n",
    "  return df\n",
    "  # print(dataset[1],y)"
   ]
  },
  {
   "cell_type": "markdown",
   "metadata": {
    "id": "B8kh1g7EVTLm"
   },
   "source": [
    "Let's take a look at the dataset."
   ]
  },
  {
   "cell_type": "code",
   "execution_count": null,
   "metadata": {
    "colab": {
     "base_uri": "https://localhost:8080/",
     "height": 197
    },
    "executionInfo": {
     "elapsed": 4013,
     "status": "ok",
     "timestamp": 1594616511026,
     "user": {
      "displayName": "Rojen B.N Pradhan",
      "photoUrl": "https://lh3.googleusercontent.com/a-/AOh14Ggzj8VqdRTRq7qGxhXZEkej0NHjZ0_6JfVRU8BU=s64",
      "userId": "11019520446215967419"
     },
     "user_tz": -345
    },
    "id": "QLQrSE1Dhh0E",
    "outputId": "49584c8e-e397-4108-dea1-956839723f24"
   },
   "outputs": [
    {
     "data": {
      "text/html": [
       "<div>\n",
       "<style scoped>\n",
       "    .dataframe tbody tr th:only-of-type {\n",
       "        vertical-align: middle;\n",
       "    }\n",
       "\n",
       "    .dataframe tbody tr th {\n",
       "        vertical-align: top;\n",
       "    }\n",
       "\n",
       "    .dataframe thead th {\n",
       "        text-align: right;\n",
       "    }\n",
       "</style>\n",
       "<table border=\"1\" class=\"dataframe\">\n",
       "  <thead>\n",
       "    <tr style=\"text-align: right;\">\n",
       "      <th></th>\n",
       "      <th>GRE_Score</th>\n",
       "      <th>CGPA</th>\n",
       "      <th>Admission</th>\n",
       "    </tr>\n",
       "  </thead>\n",
       "  <tbody>\n",
       "    <tr>\n",
       "      <th>0</th>\n",
       "      <td>313</td>\n",
       "      <td>7.2</td>\n",
       "      <td>1</td>\n",
       "    </tr>\n",
       "    <tr>\n",
       "      <th>1</th>\n",
       "      <td>312</td>\n",
       "      <td>7.5</td>\n",
       "      <td>1</td>\n",
       "    </tr>\n",
       "    <tr>\n",
       "      <th>2</th>\n",
       "      <td>295</td>\n",
       "      <td>3.3</td>\n",
       "      <td>0</td>\n",
       "    </tr>\n",
       "    <tr>\n",
       "      <th>3</th>\n",
       "      <td>325</td>\n",
       "      <td>3.3</td>\n",
       "      <td>1</td>\n",
       "    </tr>\n",
       "    <tr>\n",
       "      <th>4</th>\n",
       "      <td>299</td>\n",
       "      <td>4.0</td>\n",
       "      <td>0</td>\n",
       "    </tr>\n",
       "  </tbody>\n",
       "</table>\n",
       "</div>"
      ],
      "text/plain": [
       "   GRE_Score  CGPA  Admission\n",
       "0        313   7.2          1\n",
       "1        312   7.5          1\n",
       "2        295   3.3          0\n",
       "3        325   3.3          1\n",
       "4        299   4.0          0"
      ]
     },
     "execution_count": 81,
     "metadata": {
      "tags": []
     },
     "output_type": "execute_result"
    }
   ],
   "source": [
    "dataset = generate_dataset_2d()\n",
    "dataset.head()"
   ]
  },
  {
   "cell_type": "code",
   "execution_count": null,
   "metadata": {
    "colab": {
     "base_uri": "https://localhost:8080/",
     "height": 294
    },
    "executionInfo": {
     "elapsed": 3985,
     "status": "ok",
     "timestamp": 1594616511028,
     "user": {
      "displayName": "Rojen B.N Pradhan",
      "photoUrl": "https://lh3.googleusercontent.com/a-/AOh14Ggzj8VqdRTRq7qGxhXZEkej0NHjZ0_6JfVRU8BU=s64",
      "userId": "11019520446215967419"
     },
     "user_tz": -345
    },
    "id": "oaYPYd50h-x4",
    "outputId": "036e6142-aa27-4028-eea8-082dd73ea2c2"
   },
   "outputs": [
    {
     "data": {
      "image/png": "[encoded data removed]",
      "text/plain": [
       "<Figure size 432x288 with 1 Axes>"
      ]
     },
     "metadata": {
      "needs_background": "light",
      "tags": []
     },
     "output_type": "display_data"
    }
   ],
   "source": [
    "map_color = np.array(['r', 'b'])\n",
    "\n",
    "X = dataset.iloc[:, :-1].values\n",
    "y = dataset.iloc[:, 2].values\n",
    "\n",
    "plt.scatter( dataset.GRE_Score, dataset.CGPA, c = map_color[y])\n",
    "\n",
    "plt.title('GRE Score and CGPA')\n",
    "plt.xlabel('GRE Score')\n",
    "plt.ylabel('CGPA')\n",
    "plt.show()"
   ]
  },
  {
   "cell_type": "markdown",
   "metadata": {
    "id": "exvNnpPpqKw1"
   },
   "source": [
    "Let’s fit the logistic regression on this dataset and see the decision boundary. We will use the same `LogisticRegression` object to fit logistic regression on our new data. Then we will visualize the decision boundary.\n",
    " \n",
    "*Don't worry about the code used for the visualization part. All you need to know about it is that it displays the decision boundary.*\n",
    " \n",
    "\n"
   ]
  },
  {
   "cell_type": "code",
   "execution_count": null,
   "metadata": {
    "colab": {
     "base_uri": "https://localhost:8080/",
     "height": 294
    },
    "executionInfo": {
     "elapsed": 3966,
     "status": "ok",
     "timestamp": 1594616511030,
     "user": {
      "displayName": "Rojen B.N Pradhan",
      "photoUrl": "https://lh3.googleusercontent.com/a-/AOh14Ggzj8VqdRTRq7qGxhXZEkej0NHjZ0_6JfVRU8BU=s64",
      "userId": "11019520446215967419"
     },
     "user_tz": -345
    },
    "id": "1kDhgStNqRYn",
    "outputId": "71d7f207-47b6-44b8-9a07-a0600877f145"
   },
   "outputs": [
    {
     "data": {
      "image/png": "[encoded data removed]",
      "text/plain": [
       "<Figure size 432x288 with 1 Axes>"
      ]
     },
     "metadata": {
      "needs_background": "light",
      "tags": []
     },
     "output_type": "display_data"
    }
   ],
   "source": [
    "logistic_regression = LogisticRegression()\n",
    "logistic_regression.fit(X,y)\n",
    "\n",
    "# Creating a meshgrid of GRE score and CGPA\n",
    "X1_min = X[:, 0].min()\n",
    "X1_max = X[:, 0].max()\n",
    "\n",
    "X2_min = X[:, 1].min()\n",
    "X2_max = X[:, 1].max()\n",
    "\n",
    "X1_mesh, X2_mesh = np.meshgrid(np.arange(X1_min - 1, X1_max +1, 0.01), \n",
    "                               np.arange(X2_min - 1, X2_max + 1, 0.01))\n",
    "\n",
    "# Classifying each point in meshgrid\n",
    "input_mesh = np.array([X1_mesh.ravel(), X2_mesh.ravel()]).T # all points in meshgrid as input\n",
    "label_mesh = logistic_regression.predict(input_mesh) # labels for all points in meshgrid\n",
    "\n",
    "# Plotting the decision boundary for entire mesh\n",
    "from matplotlib.colors import ListedColormap\n",
    "plt.contourf(X1_mesh, X2_mesh, label_mesh.reshape(X1_mesh.shape),  alpha = 0.75, cmap = ListedColormap(('#FE6969', '#7F9AFD')))\n",
    "\n",
    "\n",
    "# Plotting the data points\n",
    "plt.scatter(X[:,0], X[:,1], c=y, cmap = ListedColormap(('red', 'blue')))\n",
    "plt.xlim(X1_min - 1, X1_max + 1)\n",
    "plt.ylim(X2_min - 0.5, X2_max + 0.5)\n",
    "\n",
    "# Titles and labels\n",
    "plt.title('Logistic Regression')\n",
    "plt.xlabel('GRE Score')\n",
    "plt.ylabel('CGPA')\n",
    "plt.show()\n"
   ]
  },
  {
   "cell_type": "markdown",
   "metadata": {
    "id": "3LQ_0uR3xnzi"
   },
   "source": [
    "**In this example, the straight line which separates the red region where y = 0 and the blue region where y = 1 is called the decision boundary.** "
   ]
  },
  {
   "cell_type": "markdown",
   "metadata": {
    "id": "gTYirM-frSBY"
   },
   "source": [
    "## Additional Resources\n",
    "\n",
    "* Books \n",
    "  *  Aurélien Géron (2017), Hands-On Machine Learning with Scikit-Learn and TensorFlow, 1st edition, O'Reilly\n",
    "    * Part I, Chapter 4 Training Models, page 134-137 to learn about implementation of Logistic Regression in greater detail\n",
    "\n"
   ]
  }
 ],
 "metadata": {
  "colab": {
   "collapsed_sections": [],
   "name": "Read 1: 1.1 Logistic Regression.ipynb",
   "provenance": []
  },
  "kernelspec": {
   "display_name": "pytorch",
   "language": "python",
   "name": "python3"
  },
  "language_info": {
   "codemirror_mode": {
    "name": "ipython",
    "version": 3
   },
   "file_extension": ".py",
   "mimetype": "text/x-python",
   "name": "python",
   "nbconvert_exporter": "python",
   "pygments_lexer": "ipython3",
   "version": "3.11.11"
  }
 },
 "nbformat": 4,
 "nbformat_minor": 0
}
